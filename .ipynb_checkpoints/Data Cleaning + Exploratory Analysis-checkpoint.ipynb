{
 "cells": [
  {
   "cell_type": "markdown",
   "metadata": {},
   "source": [
    "# Data Cleaning and Exploratory Analysis\n",
    "\n",
    "## US Shark Attacks, Populations, and Temp Anomalies"
   ]
  },
  {
   "cell_type": "markdown",
   "metadata": {},
   "source": [
    "Adam Benson <br>\n",
    "CLaSP 405-002 <br>\n",
    "Final Project"
   ]
  },
  {
   "cell_type": "markdown",
   "metadata": {},
   "source": [
    "This notebook gathers data from three sources and ultimately compiles them into one pandas DataFrame to enable further analysis.\n",
    "\n",
    "The purpose of this project was to determine if shark attacks increase with populations, temperature anomalies, or a combination of both."
   ]
  },
  {
   "cell_type": "markdown",
   "metadata": {},
   "source": [
    "### Import Statements"
   ]
  },
  {
   "cell_type": "code",
   "execution_count": 2,
   "metadata": {
    "collapsed": true
   },
   "outputs": [],
   "source": [
    "## Import Statements\n",
    "import pandas as pd                  # DataFrame for analysis\n",
    "import numpy as np                   # for numerical precision in quantitative operations\n",
    "import seaborn as sns                # for more stylish plotting\n",
    "import matplotlib.pyplot as plt      # for basic plotting\n",
    "\n",
    "import wbdata                        # Python package to find and request information \n",
    "                                     # from the World Bank's various databases\n",
    "\n",
    "import linereg  as lr                #for calculating the error\n",
    "                                     #on linear fits\n",
    "    \n",
    "from scipy import stats              #for linear regression (least-squares fit)\n",
    "\n",
    "import datetime as dt                # for datetime objects\n",
    "\n",
    "sns.set_style(\"darkgrid\",\n",
    "              {'axes.grid' : False})# setting a dark grid style for all visualizations\n",
    "                                    # removing annoying grid lines\n",
    "\n",
    "# for visualizations to appear in this notebook\n",
    "%matplotlib inline"
   ]
  },
  {
   "cell_type": "markdown",
   "metadata": {},
   "source": [
    "### Accessing World Bank Population Data"
   ]
  },
  {
   "cell_type": "markdown",
   "metadata": {},
   "source": [
    "Data Source: https://datahelpdesk.worldbank.org/knowledgebase/topics/125589-developer-information\n",
    "\n",
    "Description: US total population from 1960-2017.\n",
    "\n",
    "Note: World Bank contains no data for 2017"
   ]
  },
  {
   "cell_type": "code",
   "execution_count": 5,
   "metadata": {
    "collapsed": true
   },
   "outputs": [],
   "source": [
    "# creating dateranges for API request\n",
    "dateRanges = (dt.datetime(1960, 1, 1), dt.datetime(2017, 1, 1))"
   ]
  },
  {
   "cell_type": "code",
   "execution_count": 4,
   "metadata": {
    "collapsed": true
   },
   "outputs": [],
   "source": [
    "# Making request to get Total Population data for the United States from 1960 - 2017\n",
    "population_result = wbdata.get_data(\"SP.POP.TOTL\", country=(\"USA\"), data_date=dateRanges)"
   ]
  },
  {
   "cell_type": "code",
   "execution_count": 56,
   "metadata": {},
   "outputs": [
    {
     "data": {
      "text/plain": [
       "58"
      ]
     },
     "execution_count": 56,
     "metadata": {},
     "output_type": "execute_result"
    }
   ],
   "source": [
    "## How many years of data I retrieved!\n",
    "len(population_result)"
   ]
  },
  {
   "cell_type": "code",
   "execution_count": 6,
   "metadata": {
    "collapsed": true
   },
   "outputs": [],
   "source": [
    "# Creating US population DataFrame\n",
    "populationFrame = pd.DataFrame(population_result)"
   ]
  },
  {
   "cell_type": "code",
   "execution_count": 8,
   "metadata": {},
   "outputs": [
    {
     "data": {
      "text/html": [
       "<div>\n",
       "<style scoped>\n",
       "    .dataframe tbody tr th:only-of-type {\n",
       "        vertical-align: middle;\n",
       "    }\n",
       "\n",
       "    .dataframe tbody tr th {\n",
       "        vertical-align: top;\n",
       "    }\n",
       "\n",
       "    .dataframe thead th {\n",
       "        text-align: right;\n",
       "    }\n",
       "</style>\n",
       "<table border=\"1\" class=\"dataframe\">\n",
       "  <thead>\n",
       "    <tr style=\"text-align: right;\">\n",
       "      <th></th>\n",
       "      <th>country</th>\n",
       "      <th>date</th>\n",
       "      <th>decimal</th>\n",
       "      <th>indicator</th>\n",
       "      <th>value</th>\n",
       "    </tr>\n",
       "  </thead>\n",
       "  <tbody>\n",
       "    <tr>\n",
       "      <th>0</th>\n",
       "      <td>{'id': 'US', 'value': 'United States'}</td>\n",
       "      <td>2017</td>\n",
       "      <td>0</td>\n",
       "      <td>{'id': 'SP.POP.TOTL', 'value': 'Population, to...</td>\n",
       "      <td>None</td>\n",
       "    </tr>\n",
       "    <tr>\n",
       "      <th>1</th>\n",
       "      <td>{'id': 'US', 'value': 'United States'}</td>\n",
       "      <td>2016</td>\n",
       "      <td>0</td>\n",
       "      <td>{'id': 'SP.POP.TOTL', 'value': 'Population, to...</td>\n",
       "      <td>323127513</td>\n",
       "    </tr>\n",
       "    <tr>\n",
       "      <th>2</th>\n",
       "      <td>{'id': 'US', 'value': 'United States'}</td>\n",
       "      <td>2015</td>\n",
       "      <td>0</td>\n",
       "      <td>{'id': 'SP.POP.TOTL', 'value': 'Population, to...</td>\n",
       "      <td>320896618</td>\n",
       "    </tr>\n",
       "    <tr>\n",
       "      <th>3</th>\n",
       "      <td>{'id': 'US', 'value': 'United States'}</td>\n",
       "      <td>2014</td>\n",
       "      <td>0</td>\n",
       "      <td>{'id': 'SP.POP.TOTL', 'value': 'Population, to...</td>\n",
       "      <td>318563456</td>\n",
       "    </tr>\n",
       "    <tr>\n",
       "      <th>4</th>\n",
       "      <td>{'id': 'US', 'value': 'United States'}</td>\n",
       "      <td>2013</td>\n",
       "      <td>0</td>\n",
       "      <td>{'id': 'SP.POP.TOTL', 'value': 'Population, to...</td>\n",
       "      <td>316204908</td>\n",
       "    </tr>\n",
       "  </tbody>\n",
       "</table>\n",
       "</div>"
      ],
      "text/plain": [
       "                                  country  date decimal  \\\n",
       "0  {'id': 'US', 'value': 'United States'}  2017       0   \n",
       "1  {'id': 'US', 'value': 'United States'}  2016       0   \n",
       "2  {'id': 'US', 'value': 'United States'}  2015       0   \n",
       "3  {'id': 'US', 'value': 'United States'}  2014       0   \n",
       "4  {'id': 'US', 'value': 'United States'}  2013       0   \n",
       "\n",
       "                                           indicator      value  \n",
       "0  {'id': 'SP.POP.TOTL', 'value': 'Population, to...       None  \n",
       "1  {'id': 'SP.POP.TOTL', 'value': 'Population, to...  323127513  \n",
       "2  {'id': 'SP.POP.TOTL', 'value': 'Population, to...  320896618  \n",
       "3  {'id': 'SP.POP.TOTL', 'value': 'Population, to...  318563456  \n",
       "4  {'id': 'SP.POP.TOTL', 'value': 'Population, to...  316204908  "
      ]
     },
     "execution_count": 8,
     "metadata": {},
     "output_type": "execute_result"
    }
   ],
   "source": [
    "# Inspecting DataFrame\n",
    "populationFrame.head()"
   ]
  },
  {
   "cell_type": "code",
   "execution_count": 9,
   "metadata": {
    "collapsed": true
   },
   "outputs": [],
   "source": [
    "# changing value of 'country; column to United States\n",
    "populationFrame['country'] = 'United States'"
   ]
  },
  {
   "cell_type": "code",
   "execution_count": 10,
   "metadata": {
    "collapsed": true
   },
   "outputs": [],
   "source": [
    "## Renaming value column to 'total population' to be more informative\n",
    "populationFrame.rename(columns={'value': 'total population'}, inplace=True)"
   ]
  },
  {
   "cell_type": "code",
   "execution_count": 61,
   "metadata": {
    "collapsed": true
   },
   "outputs": [],
   "source": [
    "## Creating numerical values for population totals\n",
    "populationFrame['total population'] = populationFrame['total population'].apply(pd.to_numeric)"
   ]
  },
  {
   "cell_type": "code",
   "execution_count": 62,
   "metadata": {},
   "outputs": [
    {
     "data": {
      "text/html": [
       "<div>\n",
       "<style scoped>\n",
       "    .dataframe tbody tr th:only-of-type {\n",
       "        vertical-align: middle;\n",
       "    }\n",
       "\n",
       "    .dataframe tbody tr th {\n",
       "        vertical-align: top;\n",
       "    }\n",
       "\n",
       "    .dataframe thead th {\n",
       "        text-align: right;\n",
       "    }\n",
       "</style>\n",
       "<table border=\"1\" class=\"dataframe\">\n",
       "  <thead>\n",
       "    <tr style=\"text-align: right;\">\n",
       "      <th></th>\n",
       "      <th>country</th>\n",
       "      <th>date</th>\n",
       "      <th>decimal</th>\n",
       "      <th>indicator</th>\n",
       "      <th>total population</th>\n",
       "    </tr>\n",
       "  </thead>\n",
       "  <tbody>\n",
       "    <tr>\n",
       "      <th>0</th>\n",
       "      <td>United States</td>\n",
       "      <td>2017</td>\n",
       "      <td>0</td>\n",
       "      <td>{'id': 'SP.POP.TOTL', 'value': 'Population, to...</td>\n",
       "      <td>NaN</td>\n",
       "    </tr>\n",
       "    <tr>\n",
       "      <th>1</th>\n",
       "      <td>United States</td>\n",
       "      <td>2016</td>\n",
       "      <td>0</td>\n",
       "      <td>{'id': 'SP.POP.TOTL', 'value': 'Population, to...</td>\n",
       "      <td>323127513.0</td>\n",
       "    </tr>\n",
       "    <tr>\n",
       "      <th>2</th>\n",
       "      <td>United States</td>\n",
       "      <td>2015</td>\n",
       "      <td>0</td>\n",
       "      <td>{'id': 'SP.POP.TOTL', 'value': 'Population, to...</td>\n",
       "      <td>320896618.0</td>\n",
       "    </tr>\n",
       "    <tr>\n",
       "      <th>3</th>\n",
       "      <td>United States</td>\n",
       "      <td>2014</td>\n",
       "      <td>0</td>\n",
       "      <td>{'id': 'SP.POP.TOTL', 'value': 'Population, to...</td>\n",
       "      <td>318563456.0</td>\n",
       "    </tr>\n",
       "    <tr>\n",
       "      <th>4</th>\n",
       "      <td>United States</td>\n",
       "      <td>2013</td>\n",
       "      <td>0</td>\n",
       "      <td>{'id': 'SP.POP.TOTL', 'value': 'Population, to...</td>\n",
       "      <td>316204908.0</td>\n",
       "    </tr>\n",
       "  </tbody>\n",
       "</table>\n",
       "</div>"
      ],
      "text/plain": [
       "         country  date decimal  \\\n",
       "0  United States  2017       0   \n",
       "1  United States  2016       0   \n",
       "2  United States  2015       0   \n",
       "3  United States  2014       0   \n",
       "4  United States  2013       0   \n",
       "\n",
       "                                           indicator  total population  \n",
       "0  {'id': 'SP.POP.TOTL', 'value': 'Population, to...               NaN  \n",
       "1  {'id': 'SP.POP.TOTL', 'value': 'Population, to...       323127513.0  \n",
       "2  {'id': 'SP.POP.TOTL', 'value': 'Population, to...       320896618.0  \n",
       "3  {'id': 'SP.POP.TOTL', 'value': 'Population, to...       318563456.0  \n",
       "4  {'id': 'SP.POP.TOTL', 'value': 'Population, to...       316204908.0  "
      ]
     },
     "execution_count": 62,
     "metadata": {},
     "output_type": "execute_result"
    }
   ],
   "source": [
    "populationFrame.head()"
   ]
  },
  {
   "cell_type": "code",
   "execution_count": 63,
   "metadata": {
    "collapsed": true
   },
   "outputs": [],
   "source": [
    "## Creating index of datetime objects\n",
    "populationFrame.index =  pd.to_datetime(populationFrame.date, format=\"%Y\", errors='coerce')"
   ]
  },
  {
   "cell_type": "code",
   "execution_count": 64,
   "metadata": {
    "collapsed": true
   },
   "outputs": [],
   "source": [
    "## Dropping uninformative columns and date because it is used as the index\n",
    "populationFrame.drop(['decimal','date', 'indicator'], axis='columns', inplace=True)"
   ]
  },
  {
   "cell_type": "code",
   "execution_count": 65,
   "metadata": {},
   "outputs": [
    {
     "data": {
      "text/html": [
       "<div>\n",
       "<style scoped>\n",
       "    .dataframe tbody tr th:only-of-type {\n",
       "        vertical-align: middle;\n",
       "    }\n",
       "\n",
       "    .dataframe tbody tr th {\n",
       "        vertical-align: top;\n",
       "    }\n",
       "\n",
       "    .dataframe thead th {\n",
       "        text-align: right;\n",
       "    }\n",
       "</style>\n",
       "<table border=\"1\" class=\"dataframe\">\n",
       "  <thead>\n",
       "    <tr style=\"text-align: right;\">\n",
       "      <th></th>\n",
       "      <th>country</th>\n",
       "      <th>total population</th>\n",
       "    </tr>\n",
       "    <tr>\n",
       "      <th>date</th>\n",
       "      <th></th>\n",
       "      <th></th>\n",
       "    </tr>\n",
       "  </thead>\n",
       "  <tbody>\n",
       "    <tr>\n",
       "      <th>2017-01-01</th>\n",
       "      <td>United States</td>\n",
       "      <td>NaN</td>\n",
       "    </tr>\n",
       "    <tr>\n",
       "      <th>2016-01-01</th>\n",
       "      <td>United States</td>\n",
       "      <td>323127513.0</td>\n",
       "    </tr>\n",
       "    <tr>\n",
       "      <th>2015-01-01</th>\n",
       "      <td>United States</td>\n",
       "      <td>320896618.0</td>\n",
       "    </tr>\n",
       "    <tr>\n",
       "      <th>2014-01-01</th>\n",
       "      <td>United States</td>\n",
       "      <td>318563456.0</td>\n",
       "    </tr>\n",
       "    <tr>\n",
       "      <th>2013-01-01</th>\n",
       "      <td>United States</td>\n",
       "      <td>316204908.0</td>\n",
       "    </tr>\n",
       "  </tbody>\n",
       "</table>\n",
       "</div>"
      ],
      "text/plain": [
       "                  country  total population\n",
       "date                                       \n",
       "2017-01-01  United States               NaN\n",
       "2016-01-01  United States       323127513.0\n",
       "2015-01-01  United States       320896618.0\n",
       "2014-01-01  United States       318563456.0\n",
       "2013-01-01  United States       316204908.0"
      ]
     },
     "execution_count": 65,
     "metadata": {},
     "output_type": "execute_result"
    }
   ],
   "source": [
    "## Inspecting DataFrame, no data for 2017!!\n",
    "populationFrame.head()"
   ]
  },
  {
   "cell_type": "code",
   "execution_count": 66,
   "metadata": {
    "collapsed": true
   },
   "outputs": [],
   "source": [
    "## Manually inserting total population for 2017, as estimated by US Census Bureau\n",
    "populationFrame.loc['2017-01-01', 'total population'] = 325700000"
   ]
  },
  {
   "cell_type": "code",
   "execution_count": 67,
   "metadata": {},
   "outputs": [
    {
     "data": {
      "text/html": [
       "<div>\n",
       "<style scoped>\n",
       "    .dataframe tbody tr th:only-of-type {\n",
       "        vertical-align: middle;\n",
       "    }\n",
       "\n",
       "    .dataframe tbody tr th {\n",
       "        vertical-align: top;\n",
       "    }\n",
       "\n",
       "    .dataframe thead th {\n",
       "        text-align: right;\n",
       "    }\n",
       "</style>\n",
       "<table border=\"1\" class=\"dataframe\">\n",
       "  <thead>\n",
       "    <tr style=\"text-align: right;\">\n",
       "      <th></th>\n",
       "      <th>country</th>\n",
       "      <th>total population</th>\n",
       "    </tr>\n",
       "    <tr>\n",
       "      <th>date</th>\n",
       "      <th></th>\n",
       "      <th></th>\n",
       "    </tr>\n",
       "  </thead>\n",
       "  <tbody>\n",
       "    <tr>\n",
       "      <th>2017-01-01</th>\n",
       "      <td>United States</td>\n",
       "      <td>325700000.0</td>\n",
       "    </tr>\n",
       "    <tr>\n",
       "      <th>2016-01-01</th>\n",
       "      <td>United States</td>\n",
       "      <td>323127513.0</td>\n",
       "    </tr>\n",
       "    <tr>\n",
       "      <th>2015-01-01</th>\n",
       "      <td>United States</td>\n",
       "      <td>320896618.0</td>\n",
       "    </tr>\n",
       "    <tr>\n",
       "      <th>2014-01-01</th>\n",
       "      <td>United States</td>\n",
       "      <td>318563456.0</td>\n",
       "    </tr>\n",
       "    <tr>\n",
       "      <th>2013-01-01</th>\n",
       "      <td>United States</td>\n",
       "      <td>316204908.0</td>\n",
       "    </tr>\n",
       "  </tbody>\n",
       "</table>\n",
       "</div>"
      ],
      "text/plain": [
       "                  country  total population\n",
       "date                                       \n",
       "2017-01-01  United States       325700000.0\n",
       "2016-01-01  United States       323127513.0\n",
       "2015-01-01  United States       320896618.0\n",
       "2014-01-01  United States       318563456.0\n",
       "2013-01-01  United States       316204908.0"
      ]
     },
     "execution_count": 67,
     "metadata": {},
     "output_type": "execute_result"
    }
   ],
   "source": [
    "populationFrame.head()"
   ]
  },
  {
   "cell_type": "code",
   "execution_count": 68,
   "metadata": {},
   "outputs": [
    {
     "data": {
      "image/png": "[encoded data removed]",
      "text/plain": [
       "<matplotlib.figure.Figure at 0x7f5f88d00f28>"
      ]
     },
     "metadata": {},
     "output_type": "display_data"
    }
   ],
   "source": [
    "## Plotting US total population with respect to time\n",
    "\n",
    "fig = plt.figure(figsize=(11,7))\n",
    "\n",
    "plt.scatter(populationFrame.index, populationFrame['total population'], color = '#26B214')\n",
    "\n",
    "\n",
    "plt.suptitle('United States Total Population\\n 1960-2017', fontsize=22)\n",
    "\n",
    "plt.ylabel('Total Population (100 million)', rotation=90,\n",
    "           labelpad=10, fontsize=18)\n",
    "\n",
    "plt.xlabel('Year', fontsize=18, labelpad=10)\n",
    "\n",
    "\n",
    "plt.yticks(fontsize=16)\n",
    "plt.xticks(rotation=0, fontsize=16)\n",
    "\n",
    "# changing background color for title, axis ticks, and axis labels.\n",
    "fig.set_facecolor('none')\n",
    "\n",
    "# changing xticks\n",
    "plt.xticks(['1960', '1970', '1980', '1990', '2000', '2010', '2017'])\n",
    "\n",
    "plt.savefig('US Population 1960-2017', bbox_inches='tight', facecolor=fig.get_facecolor(), edgecolor='none')\n",
    "\n",
    "plt.show()"
   ]
  },
  {
   "cell_type": "markdown",
   "metadata": {},
   "source": [
    "### Loading Data (NOAA Temperature)"
   ]
  },
  {
   "cell_type": "markdown",
   "metadata": {},
   "source": [
    "Data Source : https://www.ncdc.noaa.gov/cag/national/ \n",
    "\n",
    "Description : National Time Series of Contiguous U.S Average Temperature, 12-month, 1960-2017"
   ]
  },
  {
   "cell_type": "code",
   "execution_count": 69,
   "metadata": {
    "collapsed": true
   },
   "outputs": [],
   "source": [
    "## Us Land temperature values and anomalies \n",
    "## Departure from mean(52.02 F) 1901-2000 base period (20th century average)\n",
    "usLandTemps = pd.read_csv('Data/US-tavg-12-1-1960-2017.txt', header=4)"
   ]
  },
  {
   "cell_type": "code",
   "execution_count": 70,
   "metadata": {
    "scrolled": true
   },
   "outputs": [
    {
     "data": {
      "text/html": [
       "<div>\n",
       "<style scoped>\n",
       "    .dataframe tbody tr th:only-of-type {\n",
       "        vertical-align: middle;\n",
       "    }\n",
       "\n",
       "    .dataframe tbody tr th {\n",
       "        vertical-align: top;\n",
       "    }\n",
       "\n",
       "    .dataframe thead th {\n",
       "        text-align: right;\n",
       "    }\n",
       "</style>\n",
       "<table border=\"1\" class=\"dataframe\">\n",
       "  <thead>\n",
       "    <tr style=\"text-align: right;\">\n",
       "      <th></th>\n",
       "      <th>Date</th>\n",
       "      <th>Value</th>\n",
       "      <th>Anomaly</th>\n",
       "    </tr>\n",
       "  </thead>\n",
       "  <tbody>\n",
       "    <tr>\n",
       "      <th>0</th>\n",
       "      <td>196001</td>\n",
       "      <td>52.10</td>\n",
       "      <td>0.08</td>\n",
       "    </tr>\n",
       "    <tr>\n",
       "      <th>1</th>\n",
       "      <td>196101</td>\n",
       "      <td>51.46</td>\n",
       "      <td>-0.56</td>\n",
       "    </tr>\n",
       "    <tr>\n",
       "      <th>2</th>\n",
       "      <td>196201</td>\n",
       "      <td>51.64</td>\n",
       "      <td>-0.38</td>\n",
       "    </tr>\n",
       "    <tr>\n",
       "      <th>3</th>\n",
       "      <td>196301</td>\n",
       "      <td>51.69</td>\n",
       "      <td>-0.33</td>\n",
       "    </tr>\n",
       "    <tr>\n",
       "      <th>4</th>\n",
       "      <td>196401</td>\n",
       "      <td>52.85</td>\n",
       "      <td>0.83</td>\n",
       "    </tr>\n",
       "  </tbody>\n",
       "</table>\n",
       "</div>"
      ],
      "text/plain": [
       "     Date  Value  Anomaly\n",
       "0  196001  52.10     0.08\n",
       "1  196101  51.46    -0.56\n",
       "2  196201  51.64    -0.38\n",
       "3  196301  51.69    -0.33\n",
       "4  196401  52.85     0.83"
      ]
     },
     "execution_count": 70,
     "metadata": {},
     "output_type": "execute_result"
    }
   ],
   "source": [
    "## Inspecting DataFrame\n",
    "usLandTemps.head()"
   ]
  },
  {
   "cell_type": "code",
   "execution_count": 71,
   "metadata": {},
   "outputs": [
    {
     "data": {
      "text/html": [
       "<div>\n",
       "<style scoped>\n",
       "    .dataframe tbody tr th:only-of-type {\n",
       "        vertical-align: middle;\n",
       "    }\n",
       "\n",
       "    .dataframe tbody tr th {\n",
       "        vertical-align: top;\n",
       "    }\n",
       "\n",
       "    .dataframe thead th {\n",
       "        text-align: right;\n",
       "    }\n",
       "</style>\n",
       "<table border=\"1\" class=\"dataframe\">\n",
       "  <thead>\n",
       "    <tr style=\"text-align: right;\">\n",
       "      <th></th>\n",
       "      <th>Date</th>\n",
       "      <th>Value</th>\n",
       "      <th>Anomaly</th>\n",
       "    </tr>\n",
       "  </thead>\n",
       "  <tbody>\n",
       "    <tr>\n",
       "      <th>53</th>\n",
       "      <td>201301</td>\n",
       "      <td>54.96</td>\n",
       "      <td>2.94</td>\n",
       "    </tr>\n",
       "    <tr>\n",
       "      <th>54</th>\n",
       "      <td>201401</td>\n",
       "      <td>52.29</td>\n",
       "      <td>0.27</td>\n",
       "    </tr>\n",
       "    <tr>\n",
       "      <th>55</th>\n",
       "      <td>201501</td>\n",
       "      <td>52.75</td>\n",
       "      <td>0.73</td>\n",
       "    </tr>\n",
       "    <tr>\n",
       "      <th>56</th>\n",
       "      <td>201601</td>\n",
       "      <td>54.33</td>\n",
       "      <td>2.31</td>\n",
       "    </tr>\n",
       "    <tr>\n",
       "      <th>57</th>\n",
       "      <td>201701</td>\n",
       "      <td>55.03</td>\n",
       "      <td>3.01</td>\n",
       "    </tr>\n",
       "  </tbody>\n",
       "</table>\n",
       "</div>"
      ],
      "text/plain": [
       "      Date  Value  Anomaly\n",
       "53  201301  54.96     2.94\n",
       "54  201401  52.29     0.27\n",
       "55  201501  52.75     0.73\n",
       "56  201601  54.33     2.31\n",
       "57  201701  55.03     3.01"
      ]
     },
     "execution_count": 71,
     "metadata": {},
     "output_type": "execute_result"
    }
   ],
   "source": [
    "usLandTemps.tail()"
   ]
  },
  {
   "cell_type": "code",
   "execution_count": 72,
   "metadata": {
    "collapsed": true
   },
   "outputs": [],
   "source": [
    "## renaming columns to be more informative\n",
    "usLandTemps.rename(columns={'Value': 'Temp (F)', 'Anomaly': 'Anomaly (F)'}, inplace=True)"
   ]
  },
  {
   "cell_type": "code",
   "execution_count": 73,
   "metadata": {},
   "outputs": [
    {
     "data": {
      "text/html": [
       "<div>\n",
       "<style scoped>\n",
       "    .dataframe tbody tr th:only-of-type {\n",
       "        vertical-align: middle;\n",
       "    }\n",
       "\n",
       "    .dataframe tbody tr th {\n",
       "        vertical-align: top;\n",
       "    }\n",
       "\n",
       "    .dataframe thead th {\n",
       "        text-align: right;\n",
       "    }\n",
       "</style>\n",
       "<table border=\"1\" class=\"dataframe\">\n",
       "  <thead>\n",
       "    <tr style=\"text-align: right;\">\n",
       "      <th></th>\n",
       "      <th>Date</th>\n",
       "      <th>Temp (F)</th>\n",
       "      <th>Anomaly (F)</th>\n",
       "    </tr>\n",
       "  </thead>\n",
       "  <tbody>\n",
       "    <tr>\n",
       "      <th>0</th>\n",
       "      <td>196001</td>\n",
       "      <td>52.10</td>\n",
       "      <td>0.08</td>\n",
       "    </tr>\n",
       "    <tr>\n",
       "      <th>1</th>\n",
       "      <td>196101</td>\n",
       "      <td>51.46</td>\n",
       "      <td>-0.56</td>\n",
       "    </tr>\n",
       "    <tr>\n",
       "      <th>2</th>\n",
       "      <td>196201</td>\n",
       "      <td>51.64</td>\n",
       "      <td>-0.38</td>\n",
       "    </tr>\n",
       "    <tr>\n",
       "      <th>3</th>\n",
       "      <td>196301</td>\n",
       "      <td>51.69</td>\n",
       "      <td>-0.33</td>\n",
       "    </tr>\n",
       "    <tr>\n",
       "      <th>4</th>\n",
       "      <td>196401</td>\n",
       "      <td>52.85</td>\n",
       "      <td>0.83</td>\n",
       "    </tr>\n",
       "  </tbody>\n",
       "</table>\n",
       "</div>"
      ],
      "text/plain": [
       "     Date  Temp (F)  Anomaly (F)\n",
       "0  196001     52.10         0.08\n",
       "1  196101     51.46        -0.56\n",
       "2  196201     51.64        -0.38\n",
       "3  196301     51.69        -0.33\n",
       "4  196401     52.85         0.83"
      ]
     },
     "execution_count": 73,
     "metadata": {},
     "output_type": "execute_result"
    }
   ],
   "source": [
    "usLandTemps.head()"
   ]
  },
  {
   "cell_type": "code",
   "execution_count": 74,
   "metadata": {
    "collapsed": true
   },
   "outputs": [],
   "source": [
    "## Creating index of datetime objects\n",
    "usLandTemps.index =  pd.to_datetime(usLandTemps.Date, format=\"%Y%d\", errors='coerce')"
   ]
  },
  {
   "cell_type": "code",
   "execution_count": 75,
   "metadata": {},
   "outputs": [
    {
     "data": {
      "text/html": [
       "<div>\n",
       "<style scoped>\n",
       "    .dataframe tbody tr th:only-of-type {\n",
       "        vertical-align: middle;\n",
       "    }\n",
       "\n",
       "    .dataframe tbody tr th {\n",
       "        vertical-align: top;\n",
       "    }\n",
       "\n",
       "    .dataframe thead th {\n",
       "        text-align: right;\n",
       "    }\n",
       "</style>\n",
       "<table border=\"1\" class=\"dataframe\">\n",
       "  <thead>\n",
       "    <tr style=\"text-align: right;\">\n",
       "      <th></th>\n",
       "      <th>Date</th>\n",
       "      <th>Temp (F)</th>\n",
       "      <th>Anomaly (F)</th>\n",
       "    </tr>\n",
       "    <tr>\n",
       "      <th>Date</th>\n",
       "      <th></th>\n",
       "      <th></th>\n",
       "      <th></th>\n",
       "    </tr>\n",
       "  </thead>\n",
       "  <tbody>\n",
       "    <tr>\n",
       "      <th>1960-01-01</th>\n",
       "      <td>196001</td>\n",
       "      <td>52.10</td>\n",
       "      <td>0.08</td>\n",
       "    </tr>\n",
       "    <tr>\n",
       "      <th>1961-01-01</th>\n",
       "      <td>196101</td>\n",
       "      <td>51.46</td>\n",
       "      <td>-0.56</td>\n",
       "    </tr>\n",
       "    <tr>\n",
       "      <th>1962-01-01</th>\n",
       "      <td>196201</td>\n",
       "      <td>51.64</td>\n",
       "      <td>-0.38</td>\n",
       "    </tr>\n",
       "    <tr>\n",
       "      <th>1963-01-01</th>\n",
       "      <td>196301</td>\n",
       "      <td>51.69</td>\n",
       "      <td>-0.33</td>\n",
       "    </tr>\n",
       "    <tr>\n",
       "      <th>1964-01-01</th>\n",
       "      <td>196401</td>\n",
       "      <td>52.85</td>\n",
       "      <td>0.83</td>\n",
       "    </tr>\n",
       "  </tbody>\n",
       "</table>\n",
       "</div>"
      ],
      "text/plain": [
       "              Date  Temp (F)  Anomaly (F)\n",
       "Date                                     \n",
       "1960-01-01  196001     52.10         0.08\n",
       "1961-01-01  196101     51.46        -0.56\n",
       "1962-01-01  196201     51.64        -0.38\n",
       "1963-01-01  196301     51.69        -0.33\n",
       "1964-01-01  196401     52.85         0.83"
      ]
     },
     "execution_count": 75,
     "metadata": {},
     "output_type": "execute_result"
    }
   ],
   "source": [
    "## Inspecting DataFrame\n",
    "usLandTemps.head()"
   ]
  },
  {
   "cell_type": "code",
   "execution_count": 76,
   "metadata": {},
   "outputs": [
    {
     "data": {
      "text/html": [
       "<div>\n",
       "<style scoped>\n",
       "    .dataframe tbody tr th:only-of-type {\n",
       "        vertical-align: middle;\n",
       "    }\n",
       "\n",
       "    .dataframe tbody tr th {\n",
       "        vertical-align: top;\n",
       "    }\n",
       "\n",
       "    .dataframe thead th {\n",
       "        text-align: right;\n",
       "    }\n",
       "</style>\n",
       "<table border=\"1\" class=\"dataframe\">\n",
       "  <thead>\n",
       "    <tr style=\"text-align: right;\">\n",
       "      <th></th>\n",
       "      <th>Date</th>\n",
       "      <th>Temp (F)</th>\n",
       "      <th>Anomaly (F)</th>\n",
       "    </tr>\n",
       "    <tr>\n",
       "      <th>Date</th>\n",
       "      <th></th>\n",
       "      <th></th>\n",
       "      <th></th>\n",
       "    </tr>\n",
       "  </thead>\n",
       "  <tbody>\n",
       "    <tr>\n",
       "      <th>2013-01-01</th>\n",
       "      <td>201301</td>\n",
       "      <td>54.96</td>\n",
       "      <td>2.94</td>\n",
       "    </tr>\n",
       "    <tr>\n",
       "      <th>2014-01-01</th>\n",
       "      <td>201401</td>\n",
       "      <td>52.29</td>\n",
       "      <td>0.27</td>\n",
       "    </tr>\n",
       "    <tr>\n",
       "      <th>2015-01-01</th>\n",
       "      <td>201501</td>\n",
       "      <td>52.75</td>\n",
       "      <td>0.73</td>\n",
       "    </tr>\n",
       "    <tr>\n",
       "      <th>2016-01-01</th>\n",
       "      <td>201601</td>\n",
       "      <td>54.33</td>\n",
       "      <td>2.31</td>\n",
       "    </tr>\n",
       "    <tr>\n",
       "      <th>2017-01-01</th>\n",
       "      <td>201701</td>\n",
       "      <td>55.03</td>\n",
       "      <td>3.01</td>\n",
       "    </tr>\n",
       "  </tbody>\n",
       "</table>\n",
       "</div>"
      ],
      "text/plain": [
       "              Date  Temp (F)  Anomaly (F)\n",
       "Date                                     \n",
       "2013-01-01  201301     54.96         2.94\n",
       "2014-01-01  201401     52.29         0.27\n",
       "2015-01-01  201501     52.75         0.73\n",
       "2016-01-01  201601     54.33         2.31\n",
       "2017-01-01  201701     55.03         3.01"
      ]
     },
     "execution_count": 76,
     "metadata": {},
     "output_type": "execute_result"
    }
   ],
   "source": [
    "usLandTemps.tail()"
   ]
  },
  {
   "cell_type": "code",
   "execution_count": 77,
   "metadata": {},
   "outputs": [
    {
     "data": {
      "image/png": "[encoded data removed]",
      "text/plain": [
       "<matplotlib.figure.Figure at 0x7f5f88c7cdd8>"
      ]
     },
     "metadata": {},
     "output_type": "display_data"
    }
   ],
   "source": [
    "## plotting US land temperature with respect to time\n",
    "\n",
    "fig = plt.figure(figsize=(11,7))\n",
    "\n",
    "plt.plot(usLandTemps.index, usLandTemps['Temp (F)'], \n",
    "         marker='o', markersize = 8, color='#7173F6')\n",
    "\n",
    "\n",
    "## horizontal line at 20th century average\n",
    "plt.axhline(y=52.02, color='#D12586', linestyle = '--', \n",
    "            linewidth=3, label = \"20th Century Avg\")\n",
    "\n",
    "plt.legend(prop={'size': 17})\n",
    "\n",
    "\n",
    "plt.title(\"Average US Land Temperature\\n 1960-2017\", fontsize=22)\n",
    "plt.xticks(fontsize=16)\n",
    "plt.yticks(fontsize=16)\n",
    "\n",
    "plt.xlabel(\"Date\", fontsize=18)\n",
    "plt.ylabel(\"Temp\\n $\\degree$F\", rotation=0, fontsize=18, labelpad=45)\n",
    "\n",
    "fig.set_facecolor('none')\n",
    "\n",
    "plt.savefig('RawUSTemps.png', bbox_inches='tight', facecolor=fig.get_facecolor(), edgecolor='none')\n",
    "\n",
    "plt.show()"
   ]
  },
  {
   "cell_type": "markdown",
   "metadata": {},
   "source": [
    "### Loading Data (Global Shark Attack File)"
   ]
  },
  {
   "cell_type": "markdown",
   "metadata": {},
   "source": [
    "Data Source: http://www.sharkattackfile.net/incidentlog.htm\n",
    "\n",
    "Description: Chronoligical report of all reported shark attacks across the globe from 1750 to present day"
   ]
  },
  {
   "cell_type": "code",
   "execution_count": 12,
   "metadata": {
    "collapsed": true
   },
   "outputs": [],
   "source": [
    "## Creating DataFrame of all incidents from Global Shark Attack File\n",
    "globalSharkFile = pd.read_excel('Data/GSAF5.xls', encoding='latin-1')"
   ]
  },
  {
   "cell_type": "code",
   "execution_count": 13,
   "metadata": {},
   "outputs": [
    {
     "data": {
      "text/html": [
       "<div>\n",
       "<style scoped>\n",
       "    .dataframe tbody tr th:only-of-type {\n",
       "        vertical-align: middle;\n",
       "    }\n",
       "\n",
       "    .dataframe tbody tr th {\n",
       "        vertical-align: top;\n",
       "    }\n",
       "\n",
       "    .dataframe thead th {\n",
       "        text-align: right;\n",
       "    }\n",
       "</style>\n",
       "<table border=\"1\" class=\"dataframe\">\n",
       "  <thead>\n",
       "    <tr style=\"text-align: right;\">\n",
       "      <th></th>\n",
       "      <th>Case Number</th>\n",
       "      <th>Date</th>\n",
       "      <th>Year</th>\n",
       "      <th>Type</th>\n",
       "      <th>Country</th>\n",
       "      <th>Area</th>\n",
       "      <th>Location</th>\n",
       "      <th>Activity</th>\n",
       "      <th>Name</th>\n",
       "      <th>Sex</th>\n",
       "      <th>...</th>\n",
       "      <th>Species</th>\n",
       "      <th>Investigator or Source</th>\n",
       "      <th>pdf</th>\n",
       "      <th>href formula</th>\n",
       "      <th>href</th>\n",
       "      <th>Case Number.1</th>\n",
       "      <th>Case Number.2</th>\n",
       "      <th>original order</th>\n",
       "      <th>Unnamed: 22</th>\n",
       "      <th>Unnamed: 23</th>\n",
       "    </tr>\n",
       "  </thead>\n",
       "  <tbody>\n",
       "    <tr>\n",
       "      <th>0</th>\n",
       "      <td>2018.04.03</td>\n",
       "      <td>03-Apr-2018</td>\n",
       "      <td>2018.0</td>\n",
       "      <td>Unprovoked</td>\n",
       "      <td>SOUTH AFRICA</td>\n",
       "      <td>Eastern Cape Province</td>\n",
       "      <td>St. Francis Bay</td>\n",
       "      <td>Surfing</td>\n",
       "      <td>Ross Spowart</td>\n",
       "      <td>M</td>\n",
       "      <td>...</td>\n",
       "      <td>NaN</td>\n",
       "      <td>TrackingSharks.com</td>\n",
       "      <td>2018.04.03-StFrancisBay.pdf</td>\n",
       "      <td>http://sharkattackfile.net/spreadsheets/pdf_di...</td>\n",
       "      <td>http://sharkattackfile.net/spreadsheets/pdf_di...</td>\n",
       "      <td>2018.04.02</td>\n",
       "      <td>2018.04.03</td>\n",
       "      <td>6258.0</td>\n",
       "      <td>NaN</td>\n",
       "      <td>NaN</td>\n",
       "    </tr>\n",
       "    <tr>\n",
       "      <th>1</th>\n",
       "      <td>2018.03.31</td>\n",
       "      <td>31-Mar-2018</td>\n",
       "      <td>2018.0</td>\n",
       "      <td>Unprovoked</td>\n",
       "      <td>USA</td>\n",
       "      <td>Hawaii</td>\n",
       "      <td>Kukio Beach</td>\n",
       "      <td>Stand-Up Paddleboarding</td>\n",
       "      <td>male</td>\n",
       "      <td>M</td>\n",
       "      <td>...</td>\n",
       "      <td>Tiger shark, 12'</td>\n",
       "      <td>Khon2, 3/31/2018</td>\n",
       "      <td>2018.03.31-Hawaii.pdf</td>\n",
       "      <td>http://sharkattackfile.net/spreadsheets/pdf_di...</td>\n",
       "      <td>http://sharkattackfile.net/spreadsheets/pdf_di...</td>\n",
       "      <td>2018.03.31</td>\n",
       "      <td>2018.03.31</td>\n",
       "      <td>6257.0</td>\n",
       "      <td>NaN</td>\n",
       "      <td>NaN</td>\n",
       "    </tr>\n",
       "    <tr>\n",
       "      <th>2</th>\n",
       "      <td>2018.03.14</td>\n",
       "      <td>14-Mar-2018</td>\n",
       "      <td>2018.0</td>\n",
       "      <td>Unprovoked</td>\n",
       "      <td>AUSTRALIA</td>\n",
       "      <td>Western Australia</td>\n",
       "      <td>Waterman's Bay</td>\n",
       "      <td>Wading</td>\n",
       "      <td>Luke Guy &amp; Finn Bald</td>\n",
       "      <td>M</td>\n",
       "      <td>...</td>\n",
       "      <td>Wobbegong shark</td>\n",
       "      <td>B. Myatt, GSAF</td>\n",
       "      <td>2018.03.14-WatermansBay.pdf</td>\n",
       "      <td>http://sharkattackfile.net/spreadsheets/pdf_di...</td>\n",
       "      <td>http://sharkattackfile.net/spreadsheets/pdf_di...</td>\n",
       "      <td>2018.03.14</td>\n",
       "      <td>2018.03.14</td>\n",
       "      <td>6256.0</td>\n",
       "      <td>NaN</td>\n",
       "      <td>NaN</td>\n",
       "    </tr>\n",
       "    <tr>\n",
       "      <th>3</th>\n",
       "      <td>2018.03.09.b</td>\n",
       "      <td>9-Mar-2018</td>\n",
       "      <td>2018.0</td>\n",
       "      <td>Unprovoked</td>\n",
       "      <td>AUSTRALIA</td>\n",
       "      <td>Victoria</td>\n",
       "      <td>Lorne</td>\n",
       "      <td>Swimming</td>\n",
       "      <td>Rob Crossland</td>\n",
       "      <td>M</td>\n",
       "      <td>...</td>\n",
       "      <td>3.5 m shark</td>\n",
       "      <td>B. Myatt, GSAF</td>\n",
       "      <td>2018.03.09.b-Crossland.pdf</td>\n",
       "      <td>http://sharkattackfile.net/spreadsheets/pdf_di...</td>\n",
       "      <td>http://sharkattackfile.net/spreadsheets/pdf_di...</td>\n",
       "      <td>2018.03.09.b</td>\n",
       "      <td>2018.03.09.b</td>\n",
       "      <td>6255.0</td>\n",
       "      <td>NaN</td>\n",
       "      <td>NaN</td>\n",
       "    </tr>\n",
       "    <tr>\n",
       "      <th>4</th>\n",
       "      <td>2018.03.09.a</td>\n",
       "      <td>9-Mar-2018</td>\n",
       "      <td>2018.0</td>\n",
       "      <td>Unprovoked</td>\n",
       "      <td>AUSTRALIA</td>\n",
       "      <td>Victoria</td>\n",
       "      <td>Winkipop</td>\n",
       "      <td>Surfing</td>\n",
       "      <td>Lachie Brown</td>\n",
       "      <td>M</td>\n",
       "      <td>...</td>\n",
       "      <td>1.8 m shark</td>\n",
       "      <td>B. Myatt, GSAF</td>\n",
       "      <td>2018.03.09.a-Weight.pdf</td>\n",
       "      <td>http://sharkattackfile.net/spreadsheets/pdf_di...</td>\n",
       "      <td>http://sharkattackfile.net/spreadsheets/pdf_di...</td>\n",
       "      <td>2018.03.09.a</td>\n",
       "      <td>2018.03.09.a</td>\n",
       "      <td>6254.0</td>\n",
       "      <td>NaN</td>\n",
       "      <td>NaN</td>\n",
       "    </tr>\n",
       "  </tbody>\n",
       "</table>\n",
       "<p>5 rows × 24 columns</p>\n",
       "</div>"
      ],
      "text/plain": [
       "    Case Number         Date    Year        Type       Country  \\\n",
       "0    2018.04.03  03-Apr-2018  2018.0  Unprovoked  SOUTH AFRICA   \n",
       "1    2018.03.31  31-Mar-2018  2018.0  Unprovoked           USA   \n",
       "2    2018.03.14  14-Mar-2018  2018.0  Unprovoked     AUSTRALIA   \n",
       "3  2018.03.09.b   9-Mar-2018  2018.0  Unprovoked     AUSTRALIA   \n",
       "4  2018.03.09.a   9-Mar-2018  2018.0  Unprovoked     AUSTRALIA   \n",
       "\n",
       "                    Area         Location                 Activity  \\\n",
       "0  Eastern Cape Province  St. Francis Bay                  Surfing   \n",
       "1                 Hawaii      Kukio Beach  Stand-Up Paddleboarding   \n",
       "2      Western Australia   Waterman's Bay                   Wading   \n",
       "3               Victoria            Lorne                 Swimming   \n",
       "4               Victoria         Winkipop                  Surfing   \n",
       "\n",
       "                   Name Sex      ...              Species   \\\n",
       "0          Ross Spowart    M     ...                   NaN   \n",
       "1                  male    M     ...      Tiger shark, 12'   \n",
       "2  Luke Guy & Finn Bald    M     ...       Wobbegong shark   \n",
       "3         Rob Crossland    M     ...           3.5 m shark   \n",
       "4          Lachie Brown    M     ...           1.8 m shark   \n",
       "\n",
       "  Investigator or Source                          pdf  \\\n",
       "0     TrackingSharks.com  2018.04.03-StFrancisBay.pdf   \n",
       "1       Khon2, 3/31/2018        2018.03.31-Hawaii.pdf   \n",
       "2         B. Myatt, GSAF  2018.03.14-WatermansBay.pdf   \n",
       "3         B. Myatt, GSAF   2018.03.09.b-Crossland.pdf   \n",
       "4         B. Myatt, GSAF      2018.03.09.a-Weight.pdf   \n",
       "\n",
       "                                        href formula  \\\n",
       "0  http://sharkattackfile.net/spreadsheets/pdf_di...   \n",
       "1  http://sharkattackfile.net/spreadsheets/pdf_di...   \n",
       "2  http://sharkattackfile.net/spreadsheets/pdf_di...   \n",
       "3  http://sharkattackfile.net/spreadsheets/pdf_di...   \n",
       "4  http://sharkattackfile.net/spreadsheets/pdf_di...   \n",
       "\n",
       "                                                href Case Number.1  \\\n",
       "0  http://sharkattackfile.net/spreadsheets/pdf_di...    2018.04.02   \n",
       "1  http://sharkattackfile.net/spreadsheets/pdf_di...    2018.03.31   \n",
       "2  http://sharkattackfile.net/spreadsheets/pdf_di...    2018.03.14   \n",
       "3  http://sharkattackfile.net/spreadsheets/pdf_di...  2018.03.09.b   \n",
       "4  http://sharkattackfile.net/spreadsheets/pdf_di...  2018.03.09.a   \n",
       "\n",
       "  Case Number.2 original order Unnamed: 22 Unnamed: 23  \n",
       "0    2018.04.03         6258.0         NaN         NaN  \n",
       "1    2018.03.31         6257.0         NaN         NaN  \n",
       "2    2018.03.14         6256.0         NaN         NaN  \n",
       "3  2018.03.09.b         6255.0         NaN         NaN  \n",
       "4  2018.03.09.a         6254.0         NaN         NaN  \n",
       "\n",
       "[5 rows x 24 columns]"
      ]
     },
     "execution_count": 13,
     "metadata": {},
     "output_type": "execute_result"
    }
   ],
   "source": [
    "## Inspecting DataFrame\n",
    "globalSharkFile.head()"
   ]
  },
  {
   "cell_type": "code",
   "execution_count": 14,
   "metadata": {},
   "outputs": [
    {
     "name": "stdout",
     "output_type": "stream",
     "text": [
      "There are 212 countries included in this data.\n"
     ]
    }
   ],
   "source": [
    "## Number of countries in shark attack file\n",
    "print(\"There are {} countries included in this data.\".format(len(globalSharkFile['Country'].unique())))"
   ]
  },
  {
   "cell_type": "code",
   "execution_count": 15,
   "metadata": {
    "collapsed": true
   },
   "outputs": [],
   "source": [
    "## Removing whitespace from country names\n",
    "globalSharkFile.Country = globalSharkFile.Country.str.strip()"
   ]
  },
  {
   "cell_type": "code",
   "execution_count": 16,
   "metadata": {},
   "outputs": [
    {
     "name": "stdout",
     "output_type": "stream",
     "text": [
      "There are 204 countries included in this data\n"
     ]
    }
   ],
   "source": [
    "print(\"There are {} countries included in this data\".format(len(globalSharkFile.Country.unique())))"
   ]
  },
  {
   "cell_type": "code",
   "execution_count": 17,
   "metadata": {},
   "outputs": [
    {
     "data": {
      "text/plain": [
       "(25707, 24)"
      ]
     },
     "execution_count": 17,
     "metadata": {},
     "output_type": "execute_result"
    }
   ],
   "source": [
    "## nearly 26000 shark attacks included!\n",
    "globalSharkFile.shape"
   ]
  },
  {
   "cell_type": "markdown",
   "metadata": {
    "collapsed": true
   },
   "source": [
    "## Selecting US Shark Attacks"
   ]
  },
  {
   "cell_type": "code",
   "execution_count": 19,
   "metadata": {
    "collapsed": true
   },
   "outputs": [],
   "source": [
    "## United States Attacks\n",
    "usAttacks = globalSharkFile[globalSharkFile['Country'] == 'USA']"
   ]
  },
  {
   "cell_type": "code",
   "execution_count": 20,
   "metadata": {},
   "outputs": [
    {
     "data": {
      "text/plain": [
       "(2219, 24)"
      ]
     },
     "execution_count": 20,
     "metadata": {},
     "output_type": "execute_result"
    }
   ],
   "source": [
    "## number of entries for US attacks\n",
    "usAttacks.shape"
   ]
  },
  {
   "cell_type": "code",
   "execution_count": 21,
   "metadata": {},
   "outputs": [
    {
     "data": {
      "text/html": [
       "<div>\n",
       "<style scoped>\n",
       "    .dataframe tbody tr th:only-of-type {\n",
       "        vertical-align: middle;\n",
       "    }\n",
       "\n",
       "    .dataframe tbody tr th {\n",
       "        vertical-align: top;\n",
       "    }\n",
       "\n",
       "    .dataframe thead th {\n",
       "        text-align: right;\n",
       "    }\n",
       "</style>\n",
       "<table border=\"1\" class=\"dataframe\">\n",
       "  <thead>\n",
       "    <tr style=\"text-align: right;\">\n",
       "      <th></th>\n",
       "      <th>Case Number</th>\n",
       "      <th>Date</th>\n",
       "      <th>Year</th>\n",
       "      <th>Type</th>\n",
       "      <th>Country</th>\n",
       "      <th>Area</th>\n",
       "      <th>Location</th>\n",
       "      <th>Activity</th>\n",
       "      <th>Name</th>\n",
       "      <th>Sex</th>\n",
       "      <th>...</th>\n",
       "      <th>Species</th>\n",
       "      <th>Investigator or Source</th>\n",
       "      <th>pdf</th>\n",
       "      <th>href formula</th>\n",
       "      <th>href</th>\n",
       "      <th>Case Number.1</th>\n",
       "      <th>Case Number.2</th>\n",
       "      <th>original order</th>\n",
       "      <th>Unnamed: 22</th>\n",
       "      <th>Unnamed: 23</th>\n",
       "    </tr>\n",
       "  </thead>\n",
       "  <tbody>\n",
       "    <tr>\n",
       "      <th>1</th>\n",
       "      <td>2018.03.31</td>\n",
       "      <td>31-Mar-2018</td>\n",
       "      <td>2018.0</td>\n",
       "      <td>Unprovoked</td>\n",
       "      <td>USA</td>\n",
       "      <td>Hawaii</td>\n",
       "      <td>Kukio Beach</td>\n",
       "      <td>Stand-Up Paddleboarding</td>\n",
       "      <td>male</td>\n",
       "      <td>M</td>\n",
       "      <td>...</td>\n",
       "      <td>Tiger shark, 12'</td>\n",
       "      <td>Khon2, 3/31/2018</td>\n",
       "      <td>2018.03.31-Hawaii.pdf</td>\n",
       "      <td>http://sharkattackfile.net/spreadsheets/pdf_di...</td>\n",
       "      <td>http://sharkattackfile.net/spreadsheets/pdf_di...</td>\n",
       "      <td>2018.03.31</td>\n",
       "      <td>2018.03.31</td>\n",
       "      <td>6257.0</td>\n",
       "      <td>NaN</td>\n",
       "      <td>NaN</td>\n",
       "    </tr>\n",
       "    <tr>\n",
       "      <th>16</th>\n",
       "      <td>2017.12.31</td>\n",
       "      <td>31-Dec-2017</td>\n",
       "      <td>2017.0</td>\n",
       "      <td>Unprovoked</td>\n",
       "      <td>USA</td>\n",
       "      <td>Hawaii</td>\n",
       "      <td>Hultin's Beach, Oahu</td>\n",
       "      <td>Surfing</td>\n",
       "      <td>Marjoirie Mariano</td>\n",
       "      <td>F</td>\n",
       "      <td>...</td>\n",
       "      <td>Tiger shark</td>\n",
       "      <td>J. Howard, Surfling Now, 1/2/2018</td>\n",
       "      <td>2017.12.31-Mariano.pdf</td>\n",
       "      <td>http://sharkattackfile.net/spreadsheets/pdf_di...</td>\n",
       "      <td>http://sharkattackfile.net/spreadsheets/pdf_di...</td>\n",
       "      <td>2017.12.31</td>\n",
       "      <td>2017.12.31</td>\n",
       "      <td>6242.0</td>\n",
       "      <td>NaN</td>\n",
       "      <td>NaN</td>\n",
       "    </tr>\n",
       "    <tr>\n",
       "      <th>17</th>\n",
       "      <td>2017.12.30</td>\n",
       "      <td>30-Dec-2017</td>\n",
       "      <td>2017.0</td>\n",
       "      <td>Unprovoked</td>\n",
       "      <td>USA</td>\n",
       "      <td>California</td>\n",
       "      <td>Drakes Estero, Point Reyes, Marin County</td>\n",
       "      <td>Surfing</td>\n",
       "      <td>Natalie Jones</td>\n",
       "      <td>F</td>\n",
       "      <td>...</td>\n",
       "      <td>NaN</td>\n",
       "      <td>R. Collier</td>\n",
       "      <td>2017.12.30.Jones.pdf</td>\n",
       "      <td>http://sharkattackfile.net/spreadsheets/pdf_di...</td>\n",
       "      <td>http://sharkattackfile.net/spreadsheets/pdf_di...</td>\n",
       "      <td>2017.12.30</td>\n",
       "      <td>2017.12.30</td>\n",
       "      <td>6241.0</td>\n",
       "      <td>NaN</td>\n",
       "      <td>NaN</td>\n",
       "    </tr>\n",
       "    <tr>\n",
       "      <th>23</th>\n",
       "      <td>2017.11.24</td>\n",
       "      <td>24-Nov-2017</td>\n",
       "      <td>2017.0</td>\n",
       "      <td>Unprovoked</td>\n",
       "      <td>USA</td>\n",
       "      <td>California</td>\n",
       "      <td>Stillwater Cove, Monterey County</td>\n",
       "      <td>Spearfishing</td>\n",
       "      <td>Grigor Azatian</td>\n",
       "      <td>M</td>\n",
       "      <td>...</td>\n",
       "      <td>White shark, 4.6 m</td>\n",
       "      <td>R. Collier, GSAF</td>\n",
       "      <td>2017.11.24-Azatian.pdf</td>\n",
       "      <td>http://sharkattackfile.net/spreadsheets/pdf_di...</td>\n",
       "      <td>http://sharkattackfile.net/spreadsheets/pdf_di...</td>\n",
       "      <td>2017.11.24</td>\n",
       "      <td>2017.11.24</td>\n",
       "      <td>6235.0</td>\n",
       "      <td>NaN</td>\n",
       "      <td>NaN</td>\n",
       "    </tr>\n",
       "    <tr>\n",
       "      <th>24</th>\n",
       "      <td>2017.11.18</td>\n",
       "      <td>18-Nov-2017</td>\n",
       "      <td>2017.0</td>\n",
       "      <td>Unprovoked</td>\n",
       "      <td>USA</td>\n",
       "      <td>Florida</td>\n",
       "      <td>Floridana Beach, Brevard County</td>\n",
       "      <td>Surfing</td>\n",
       "      <td>Kaia Anderson</td>\n",
       "      <td>F</td>\n",
       "      <td>...</td>\n",
       "      <td>NaN</td>\n",
       "      <td>Florida Today, 11/21/2017</td>\n",
       "      <td>2017.11.18-Anderson.pdf</td>\n",
       "      <td>http://sharkattackfile.net/spreadsheets/pdf_di...</td>\n",
       "      <td>http://sharkattackfile.net/spreadsheets/pdf_di...</td>\n",
       "      <td>2017.11.18</td>\n",
       "      <td>2017.11.18</td>\n",
       "      <td>6234.0</td>\n",
       "      <td>NaN</td>\n",
       "      <td>NaN</td>\n",
       "    </tr>\n",
       "  </tbody>\n",
       "</table>\n",
       "<p>5 rows × 24 columns</p>\n",
       "</div>"
      ],
      "text/plain": [
       "   Case Number         Date    Year        Type Country        Area  \\\n",
       "1   2018.03.31  31-Mar-2018  2018.0  Unprovoked     USA      Hawaii   \n",
       "16  2017.12.31  31-Dec-2017  2017.0  Unprovoked     USA      Hawaii   \n",
       "17  2017.12.30  30-Dec-2017  2017.0  Unprovoked     USA  California   \n",
       "23  2017.11.24  24-Nov-2017  2017.0  Unprovoked     USA  California   \n",
       "24  2017.11.18  18-Nov-2017  2017.0  Unprovoked     USA     Florida   \n",
       "\n",
       "                                    Location                 Activity  \\\n",
       "1                                Kukio Beach  Stand-Up Paddleboarding   \n",
       "16                      Hultin's Beach, Oahu                  Surfing   \n",
       "17  Drakes Estero, Point Reyes, Marin County                  Surfing   \n",
       "23          Stillwater Cove, Monterey County             Spearfishing   \n",
       "24           Floridana Beach, Brevard County                  Surfing   \n",
       "\n",
       "                 Name Sex      ...                Species   \\\n",
       "1                male    M     ...        Tiger shark, 12'   \n",
       "16  Marjoirie Mariano    F     ...             Tiger shark   \n",
       "17      Natalie Jones    F     ...                     NaN   \n",
       "23     Grigor Azatian    M     ...      White shark, 4.6 m   \n",
       "24      Kaia Anderson    F     ...                     NaN   \n",
       "\n",
       "               Investigator or Source                      pdf  \\\n",
       "1                    Khon2, 3/31/2018    2018.03.31-Hawaii.pdf   \n",
       "16  J. Howard, Surfling Now, 1/2/2018   2017.12.31-Mariano.pdf   \n",
       "17                         R. Collier     2017.12.30.Jones.pdf   \n",
       "23                   R. Collier, GSAF   2017.11.24-Azatian.pdf   \n",
       "24          Florida Today, 11/21/2017  2017.11.18-Anderson.pdf   \n",
       "\n",
       "                                         href formula  \\\n",
       "1   http://sharkattackfile.net/spreadsheets/pdf_di...   \n",
       "16  http://sharkattackfile.net/spreadsheets/pdf_di...   \n",
       "17  http://sharkattackfile.net/spreadsheets/pdf_di...   \n",
       "23  http://sharkattackfile.net/spreadsheets/pdf_di...   \n",
       "24  http://sharkattackfile.net/spreadsheets/pdf_di...   \n",
       "\n",
       "                                                 href Case Number.1  \\\n",
       "1   http://sharkattackfile.net/spreadsheets/pdf_di...    2018.03.31   \n",
       "16  http://sharkattackfile.net/spreadsheets/pdf_di...    2017.12.31   \n",
       "17  http://sharkattackfile.net/spreadsheets/pdf_di...    2017.12.30   \n",
       "23  http://sharkattackfile.net/spreadsheets/pdf_di...    2017.11.24   \n",
       "24  http://sharkattackfile.net/spreadsheets/pdf_di...    2017.11.18   \n",
       "\n",
       "   Case Number.2 original order Unnamed: 22 Unnamed: 23  \n",
       "1     2018.03.31         6257.0         NaN         NaN  \n",
       "16    2017.12.31         6242.0         NaN         NaN  \n",
       "17    2017.12.30         6241.0         NaN         NaN  \n",
       "23    2017.11.24         6235.0         NaN         NaN  \n",
       "24    2017.11.18         6234.0         NaN         NaN  \n",
       "\n",
       "[5 rows x 24 columns]"
      ]
     },
     "execution_count": 21,
     "metadata": {},
     "output_type": "execute_result"
    }
   ],
   "source": [
    "## Inspecting data\n",
    "usAttacks.head()"
   ]
  },
  {
   "cell_type": "markdown",
   "metadata": {},
   "source": [
    "### Cleaning Shark Data"
   ]
  },
  {
   "cell_type": "code",
   "execution_count": 22,
   "metadata": {},
   "outputs": [
    {
     "data": {
      "text/plain": [
       "Index(['Case Number', 'Date', 'Year', 'Type', 'Country', 'Area', 'Location',\n",
       "       'Activity', 'Name', 'Sex ', 'Age', 'Injury', 'Fatal (Y/N)', 'Time',\n",
       "       'Species ', 'Investigator or Source', 'pdf', 'href formula', 'href',\n",
       "       'Case Number.1', 'Case Number.2', 'original order', 'Unnamed: 22',\n",
       "       'Unnamed: 23'],\n",
       "      dtype='object')"
      ]
     },
     "execution_count": 22,
     "metadata": {},
     "output_type": "execute_result"
    }
   ],
   "source": [
    "#inspecting column names\n",
    "usAttacks.columns"
   ]
  },
  {
   "cell_type": "code",
   "execution_count": 23,
   "metadata": {},
   "outputs": [
    {
     "data": {
      "text/plain": [
       "array(['Hawaii', 'California', 'Florida', 'New York', 'Texas',\n",
       "       'Massachusetts', 'South Carolina', 'New Jersey', 'Washington',\n",
       "       'Oregon', 'Alabama', 'North Carolina', 'Maryland', 'Louisiana',\n",
       "       'Delaware', 'Palmyra Atoll', 'Georgia', 'Puerto Rico', 'Maine',\n",
       "       'Virginia', 'US Virgin Islands', 'Kentucky', 'Guam', 'New Mexico',\n",
       "       'South Carolina ', 'Johnston Atoll', 'Alaska', 'Missouri',\n",
       "       'Mississippi', 'North Carolina ', 'Rhode Island',\n",
       "       'North & South Carolina', 'Florida ', nan, 'Connecticut',\n",
       "       'Pennsylvania', 'Illinois', 'Wake Island', ' North Carolina',\n",
       "       'Midway Atoll', 'East coast', ' New Jersey', 'New York ', 'CUBA'], dtype=object)"
      ]
     },
     "execution_count": 23,
     "metadata": {},
     "output_type": "execute_result"
    }
   ],
   "source": [
    "usAttacks.Area.unique()\n",
    "## There are two Floridas due to whitespace!!!"
   ]
  },
  {
   "cell_type": "code",
   "execution_count": 24,
   "metadata": {},
   "outputs": [
    {
     "name": "stderr",
     "output_type": "stream",
     "text": [
      "/home/adam/anaconda3/lib/python3.6/site-packages/pandas/core/generic.py:3643: SettingWithCopyWarning: \n",
      "A value is trying to be set on a copy of a slice from a DataFrame.\n",
      "Try using .loc[row_indexer,col_indexer] = value instead\n",
      "\n",
      "See the caveats in the documentation: http://pandas.pydata.org/pandas-docs/stable/indexing.html#indexing-view-versus-copy\n",
      "  self[name] = value\n"
     ]
    }
   ],
   "source": [
    "## removing whitespace from Area columns\n",
    "usAttacks.Area = usAttacks.Area.str.strip()"
   ]
  },
  {
   "cell_type": "code",
   "execution_count": 25,
   "metadata": {},
   "outputs": [
    {
     "name": "stderr",
     "output_type": "stream",
     "text": [
      "/home/adam/anaconda3/lib/python3.6/site-packages/ipykernel_launcher.py:4: SettingWithCopyWarning: \n",
      "A value is trying to be set on a copy of a slice from a DataFrame\n",
      "\n",
      "See the caveats in the documentation: http://pandas.pydata.org/pandas-docs/stable/indexing.html#indexing-view-versus-copy\n",
      "  after removing the cwd from sys.path.\n"
     ]
    }
   ],
   "source": [
    "# dropping useless columns\n",
    "usAttacks.drop(['Investigator or Source', 'pdf', 'href formula', 'href',\n",
    "                   'Case Number.1', 'Case Number.2', 'original order', 'original order', 'Unnamed: 22',\n",
    "                   'Unnamed: 23', 'Date', 'Case Number'], axis=1, inplace=True)"
   ]
  },
  {
   "cell_type": "code",
   "execution_count": 26,
   "metadata": {},
   "outputs": [
    {
     "name": "stderr",
     "output_type": "stream",
     "text": [
      "/home/adam/anaconda3/lib/python3.6/site-packages/ipykernel_launcher.py:2: SettingWithCopyWarning: \n",
      "A value is trying to be set on a copy of a slice from a DataFrame.\n",
      "Try using .loc[row_indexer,col_indexer] = value instead\n",
      "\n",
      "See the caveats in the documentation: http://pandas.pydata.org/pandas-docs/stable/indexing.html#indexing-view-versus-copy\n",
      "  \n"
     ]
    }
   ],
   "source": [
    "# creating numerical count value for each entry\n",
    "usAttacks['Count'] = 1"
   ]
  },
  {
   "cell_type": "code",
   "execution_count": 27,
   "metadata": {
    "scrolled": true
   },
   "outputs": [
    {
     "name": "stderr",
     "output_type": "stream",
     "text": [
      "/home/adam/anaconda3/lib/python3.6/site-packages/ipykernel_launcher.py:3: SettingWithCopyWarning: \n",
      "A value is trying to be set on a copy of a slice from a DataFrame.\n",
      "Try using .loc[row_indexer,col_indexer] = value instead\n",
      "\n",
      "See the caveats in the documentation: http://pandas.pydata.org/pandas-docs/stable/indexing.html#indexing-view-versus-copy\n",
      "  This is separate from the ipykernel package so we can avoid doing imports until\n",
      "/home/adam/anaconda3/lib/python3.6/site-packages/ipykernel_launcher.py:6: SettingWithCopyWarning: \n",
      "A value is trying to be set on a copy of a slice from a DataFrame.\n",
      "Try using .loc[row_indexer,col_indexer] = value instead\n",
      "\n",
      "See the caveats in the documentation: http://pandas.pydata.org/pandas-docs/stable/indexing.html#indexing-view-versus-copy\n",
      "  \n"
     ]
    }
   ],
   "source": [
    "## Creating new columns to enhance analysis\n",
    "# Fatality column\n",
    "usAttacks['Fatal'] = 0\n",
    "\n",
    "# Non-Fatal column\n",
    "usAttacks['Non-Fatal'] = 0"
   ]
  },
  {
   "cell_type": "code",
   "execution_count": 28,
   "metadata": {
    "collapsed": true
   },
   "outputs": [],
   "source": [
    "## Creating counts for fatality and non fatality\n",
    "\n",
    "for index,row in usAttacks.iterrows():\n",
    "    # Chcecking for fatal attacks\n",
    "    if row['Fatal (Y/N)'] == 'Y':\n",
    "        usAttacks.at[index,'Fatal'] = 1\n",
    "    # Checking for non-fatal attacks\n",
    "    if row['Fatal (Y/N)'] == 'N':\n",
    "        usAttacks.at[index,'Non-Fatal'] = 1"
   ]
  },
  {
   "cell_type": "code",
   "execution_count": 29,
   "metadata": {},
   "outputs": [
    {
     "data": {
      "text/html": [
       "<div>\n",
       "<style scoped>\n",
       "    .dataframe tbody tr th:only-of-type {\n",
       "        vertical-align: middle;\n",
       "    }\n",
       "\n",
       "    .dataframe tbody tr th {\n",
       "        vertical-align: top;\n",
       "    }\n",
       "\n",
       "    .dataframe thead th {\n",
       "        text-align: right;\n",
       "    }\n",
       "</style>\n",
       "<table border=\"1\" class=\"dataframe\">\n",
       "  <thead>\n",
       "    <tr style=\"text-align: right;\">\n",
       "      <th></th>\n",
       "      <th>Year</th>\n",
       "      <th>Type</th>\n",
       "      <th>Country</th>\n",
       "      <th>Area</th>\n",
       "      <th>Location</th>\n",
       "      <th>Activity</th>\n",
       "      <th>Name</th>\n",
       "      <th>Sex</th>\n",
       "      <th>Age</th>\n",
       "      <th>Injury</th>\n",
       "      <th>Fatal (Y/N)</th>\n",
       "      <th>Time</th>\n",
       "      <th>Species</th>\n",
       "      <th>Count</th>\n",
       "      <th>Fatal</th>\n",
       "      <th>Non-Fatal</th>\n",
       "    </tr>\n",
       "  </thead>\n",
       "  <tbody>\n",
       "    <tr>\n",
       "      <th>1</th>\n",
       "      <td>2018.0</td>\n",
       "      <td>Unprovoked</td>\n",
       "      <td>USA</td>\n",
       "      <td>Hawaii</td>\n",
       "      <td>Kukio Beach</td>\n",
       "      <td>Stand-Up Paddleboarding</td>\n",
       "      <td>male</td>\n",
       "      <td>M</td>\n",
       "      <td>25</td>\n",
       "      <td>Injuries to right leg &amp; hand</td>\n",
       "      <td>N</td>\n",
       "      <td>09h30</td>\n",
       "      <td>Tiger shark, 12'</td>\n",
       "      <td>1</td>\n",
       "      <td>0</td>\n",
       "      <td>1</td>\n",
       "    </tr>\n",
       "    <tr>\n",
       "      <th>16</th>\n",
       "      <td>2017.0</td>\n",
       "      <td>Unprovoked</td>\n",
       "      <td>USA</td>\n",
       "      <td>Hawaii</td>\n",
       "      <td>Hultin's Beach, Oahu</td>\n",
       "      <td>Surfing</td>\n",
       "      <td>Marjoirie Mariano</td>\n",
       "      <td>F</td>\n",
       "      <td>54</td>\n",
       "      <td>Severe lacerations to left thigh &amp; knee</td>\n",
       "      <td>N</td>\n",
       "      <td>18h00</td>\n",
       "      <td>Tiger shark</td>\n",
       "      <td>1</td>\n",
       "      <td>0</td>\n",
       "      <td>1</td>\n",
       "    </tr>\n",
       "    <tr>\n",
       "      <th>17</th>\n",
       "      <td>2017.0</td>\n",
       "      <td>Unprovoked</td>\n",
       "      <td>USA</td>\n",
       "      <td>California</td>\n",
       "      <td>Drakes Estero, Point Reyes, Marin County</td>\n",
       "      <td>Surfing</td>\n",
       "      <td>Natalie Jones</td>\n",
       "      <td>F</td>\n",
       "      <td>35</td>\n",
       "      <td>Foot bitten</td>\n",
       "      <td>N</td>\n",
       "      <td>12h00</td>\n",
       "      <td>NaN</td>\n",
       "      <td>1</td>\n",
       "      <td>0</td>\n",
       "      <td>1</td>\n",
       "    </tr>\n",
       "    <tr>\n",
       "      <th>23</th>\n",
       "      <td>2017.0</td>\n",
       "      <td>Unprovoked</td>\n",
       "      <td>USA</td>\n",
       "      <td>California</td>\n",
       "      <td>Stillwater Cove, Monterey County</td>\n",
       "      <td>Spearfishing</td>\n",
       "      <td>Grigor Azatian</td>\n",
       "      <td>M</td>\n",
       "      <td>25</td>\n",
       "      <td>Right leg bitten</td>\n",
       "      <td>N</td>\n",
       "      <td>13h45</td>\n",
       "      <td>White shark, 4.6 m</td>\n",
       "      <td>1</td>\n",
       "      <td>0</td>\n",
       "      <td>1</td>\n",
       "    </tr>\n",
       "    <tr>\n",
       "      <th>24</th>\n",
       "      <td>2017.0</td>\n",
       "      <td>Unprovoked</td>\n",
       "      <td>USA</td>\n",
       "      <td>Florida</td>\n",
       "      <td>Floridana Beach, Brevard County</td>\n",
       "      <td>Surfing</td>\n",
       "      <td>Kaia Anderson</td>\n",
       "      <td>F</td>\n",
       "      <td>14</td>\n",
       "      <td>Heel bitten</td>\n",
       "      <td>N</td>\n",
       "      <td>Late afternoon</td>\n",
       "      <td>NaN</td>\n",
       "      <td>1</td>\n",
       "      <td>0</td>\n",
       "      <td>1</td>\n",
       "    </tr>\n",
       "  </tbody>\n",
       "</table>\n",
       "</div>"
      ],
      "text/plain": [
       "      Year        Type Country        Area  \\\n",
       "1   2018.0  Unprovoked     USA      Hawaii   \n",
       "16  2017.0  Unprovoked     USA      Hawaii   \n",
       "17  2017.0  Unprovoked     USA  California   \n",
       "23  2017.0  Unprovoked     USA  California   \n",
       "24  2017.0  Unprovoked     USA     Florida   \n",
       "\n",
       "                                    Location                 Activity  \\\n",
       "1                                Kukio Beach  Stand-Up Paddleboarding   \n",
       "16                      Hultin's Beach, Oahu                  Surfing   \n",
       "17  Drakes Estero, Point Reyes, Marin County                  Surfing   \n",
       "23          Stillwater Cove, Monterey County             Spearfishing   \n",
       "24           Floridana Beach, Brevard County                  Surfing   \n",
       "\n",
       "                 Name Sex  Age                                   Injury  \\\n",
       "1                male    M  25             Injuries to right leg & hand   \n",
       "16  Marjoirie Mariano    F  54  Severe lacerations to left thigh & knee   \n",
       "17      Natalie Jones    F  35                              Foot bitten   \n",
       "23     Grigor Azatian    M  25                         Right leg bitten   \n",
       "24      Kaia Anderson    F  14                              Heel bitten   \n",
       "\n",
       "   Fatal (Y/N)            Time            Species   Count  Fatal  Non-Fatal  \n",
       "1            N           09h30    Tiger shark, 12'      1      0          1  \n",
       "16           N           18h00         Tiger shark      1      0          1  \n",
       "17           N           12h00                 NaN      1      0          1  \n",
       "23           N           13h45  White shark, 4.6 m      1      0          1  \n",
       "24           N  Late afternoon                 NaN      1      0          1  "
      ]
     },
     "execution_count": 29,
     "metadata": {},
     "output_type": "execute_result"
    }
   ],
   "source": [
    "usAttacks.head()"
   ]
  },
  {
   "cell_type": "code",
   "execution_count": 30,
   "metadata": {},
   "outputs": [
    {
     "name": "stdout",
     "output_type": "stream",
     "text": [
      "Year                                               2017\n",
      "Type                                         Unprovoked\n",
      "Country                                             USA\n",
      "Area                                         California\n",
      "Location       Drakes Estero, Point Reyes, Marin County\n",
      "Activity                                        Surfing\n",
      "Name                                      Natalie Jones\n",
      "Sex                                                   F\n",
      "Age                                                  35\n",
      "Injury                                      Foot bitten\n",
      "Fatal (Y/N)                                           N\n",
      "Time                                              12h00\n",
      "Species                                             NaN\n",
      "Count                                                 1\n",
      "Fatal                                                 0\n",
      "Non-Fatal                                             1\n",
      "Name: 17, dtype: object\n"
     ]
    }
   ],
   "source": [
    "print(usAttacks.loc[17])"
   ]
  },
  {
   "cell_type": "code",
   "execution_count": 31,
   "metadata": {
    "collapsed": true
   },
   "outputs": [],
   "source": [
    "## Writing to excel file to check formatting and inspect full data\n",
    "usAttacks.to_excel('UsAttacks.xls')"
   ]
  },
  {
   "cell_type": "markdown",
   "metadata": {},
   "source": [
    "### Re-Indexing Shark Data"
   ]
  },
  {
   "cell_type": "code",
   "execution_count": 32,
   "metadata": {},
   "outputs": [
    {
     "name": "stderr",
     "output_type": "stream",
     "text": [
      "/home/adam/anaconda3/lib/python3.6/site-packages/pandas/core/generic.py:3643: SettingWithCopyWarning: \n",
      "A value is trying to be set on a copy of a slice from a DataFrame.\n",
      "Try using .loc[row_indexer,col_indexer] = value instead\n",
      "\n",
      "See the caveats in the documentation: http://pandas.pydata.org/pandas-docs/stable/indexing.html#indexing-view-versus-copy\n",
      "  self[name] = value\n"
     ]
    }
   ],
   "source": [
    "## Creating datetime objects and ignoring bad entries (making NaT)\n",
    "usAttacks.Year = pd.to_datetime(globalSharkFile['Year'], format=\"%Y.0\", errors='coerce')"
   ]
  },
  {
   "cell_type": "code",
   "execution_count": 33,
   "metadata": {},
   "outputs": [
    {
     "data": {
      "text/html": [
       "<div>\n",
       "<style scoped>\n",
       "    .dataframe tbody tr th:only-of-type {\n",
       "        vertical-align: middle;\n",
       "    }\n",
       "\n",
       "    .dataframe tbody tr th {\n",
       "        vertical-align: top;\n",
       "    }\n",
       "\n",
       "    .dataframe thead th {\n",
       "        text-align: right;\n",
       "    }\n",
       "</style>\n",
       "<table border=\"1\" class=\"dataframe\">\n",
       "  <thead>\n",
       "    <tr style=\"text-align: right;\">\n",
       "      <th></th>\n",
       "      <th>Year</th>\n",
       "      <th>Type</th>\n",
       "      <th>Country</th>\n",
       "      <th>Area</th>\n",
       "      <th>Location</th>\n",
       "      <th>Activity</th>\n",
       "      <th>Name</th>\n",
       "      <th>Sex</th>\n",
       "      <th>Age</th>\n",
       "      <th>Injury</th>\n",
       "      <th>Fatal (Y/N)</th>\n",
       "      <th>Time</th>\n",
       "      <th>Species</th>\n",
       "      <th>Count</th>\n",
       "      <th>Fatal</th>\n",
       "      <th>Non-Fatal</th>\n",
       "    </tr>\n",
       "  </thead>\n",
       "  <tbody>\n",
       "    <tr>\n",
       "      <th>1</th>\n",
       "      <td>2018-01-01</td>\n",
       "      <td>Unprovoked</td>\n",
       "      <td>USA</td>\n",
       "      <td>Hawaii</td>\n",
       "      <td>Kukio Beach</td>\n",
       "      <td>Stand-Up Paddleboarding</td>\n",
       "      <td>male</td>\n",
       "      <td>M</td>\n",
       "      <td>25</td>\n",
       "      <td>Injuries to right leg &amp; hand</td>\n",
       "      <td>N</td>\n",
       "      <td>09h30</td>\n",
       "      <td>Tiger shark, 12'</td>\n",
       "      <td>1</td>\n",
       "      <td>0</td>\n",
       "      <td>1</td>\n",
       "    </tr>\n",
       "    <tr>\n",
       "      <th>16</th>\n",
       "      <td>2017-01-01</td>\n",
       "      <td>Unprovoked</td>\n",
       "      <td>USA</td>\n",
       "      <td>Hawaii</td>\n",
       "      <td>Hultin's Beach, Oahu</td>\n",
       "      <td>Surfing</td>\n",
       "      <td>Marjoirie Mariano</td>\n",
       "      <td>F</td>\n",
       "      <td>54</td>\n",
       "      <td>Severe lacerations to left thigh &amp; knee</td>\n",
       "      <td>N</td>\n",
       "      <td>18h00</td>\n",
       "      <td>Tiger shark</td>\n",
       "      <td>1</td>\n",
       "      <td>0</td>\n",
       "      <td>1</td>\n",
       "    </tr>\n",
       "    <tr>\n",
       "      <th>17</th>\n",
       "      <td>2017-01-01</td>\n",
       "      <td>Unprovoked</td>\n",
       "      <td>USA</td>\n",
       "      <td>California</td>\n",
       "      <td>Drakes Estero, Point Reyes, Marin County</td>\n",
       "      <td>Surfing</td>\n",
       "      <td>Natalie Jones</td>\n",
       "      <td>F</td>\n",
       "      <td>35</td>\n",
       "      <td>Foot bitten</td>\n",
       "      <td>N</td>\n",
       "      <td>12h00</td>\n",
       "      <td>NaN</td>\n",
       "      <td>1</td>\n",
       "      <td>0</td>\n",
       "      <td>1</td>\n",
       "    </tr>\n",
       "    <tr>\n",
       "      <th>23</th>\n",
       "      <td>2017-01-01</td>\n",
       "      <td>Unprovoked</td>\n",
       "      <td>USA</td>\n",
       "      <td>California</td>\n",
       "      <td>Stillwater Cove, Monterey County</td>\n",
       "      <td>Spearfishing</td>\n",
       "      <td>Grigor Azatian</td>\n",
       "      <td>M</td>\n",
       "      <td>25</td>\n",
       "      <td>Right leg bitten</td>\n",
       "      <td>N</td>\n",
       "      <td>13h45</td>\n",
       "      <td>White shark, 4.6 m</td>\n",
       "      <td>1</td>\n",
       "      <td>0</td>\n",
       "      <td>1</td>\n",
       "    </tr>\n",
       "    <tr>\n",
       "      <th>24</th>\n",
       "      <td>2017-01-01</td>\n",
       "      <td>Unprovoked</td>\n",
       "      <td>USA</td>\n",
       "      <td>Florida</td>\n",
       "      <td>Floridana Beach, Brevard County</td>\n",
       "      <td>Surfing</td>\n",
       "      <td>Kaia Anderson</td>\n",
       "      <td>F</td>\n",
       "      <td>14</td>\n",
       "      <td>Heel bitten</td>\n",
       "      <td>N</td>\n",
       "      <td>Late afternoon</td>\n",
       "      <td>NaN</td>\n",
       "      <td>1</td>\n",
       "      <td>0</td>\n",
       "      <td>1</td>\n",
       "    </tr>\n",
       "  </tbody>\n",
       "</table>\n",
       "</div>"
      ],
      "text/plain": [
       "         Year        Type Country        Area  \\\n",
       "1  2018-01-01  Unprovoked     USA      Hawaii   \n",
       "16 2017-01-01  Unprovoked     USA      Hawaii   \n",
       "17 2017-01-01  Unprovoked     USA  California   \n",
       "23 2017-01-01  Unprovoked     USA  California   \n",
       "24 2017-01-01  Unprovoked     USA     Florida   \n",
       "\n",
       "                                    Location                 Activity  \\\n",
       "1                                Kukio Beach  Stand-Up Paddleboarding   \n",
       "16                      Hultin's Beach, Oahu                  Surfing   \n",
       "17  Drakes Estero, Point Reyes, Marin County                  Surfing   \n",
       "23          Stillwater Cove, Monterey County             Spearfishing   \n",
       "24           Floridana Beach, Brevard County                  Surfing   \n",
       "\n",
       "                 Name Sex  Age                                   Injury  \\\n",
       "1                male    M  25             Injuries to right leg & hand   \n",
       "16  Marjoirie Mariano    F  54  Severe lacerations to left thigh & knee   \n",
       "17      Natalie Jones    F  35                              Foot bitten   \n",
       "23     Grigor Azatian    M  25                         Right leg bitten   \n",
       "24      Kaia Anderson    F  14                              Heel bitten   \n",
       "\n",
       "   Fatal (Y/N)            Time            Species   Count  Fatal  Non-Fatal  \n",
       "1            N           09h30    Tiger shark, 12'      1      0          1  \n",
       "16           N           18h00         Tiger shark      1      0          1  \n",
       "17           N           12h00                 NaN      1      0          1  \n",
       "23           N           13h45  White shark, 4.6 m      1      0          1  \n",
       "24           N  Late afternoon                 NaN      1      0          1  "
      ]
     },
     "execution_count": 33,
     "metadata": {},
     "output_type": "execute_result"
    }
   ],
   "source": [
    "usAttacks.head()"
   ]
  },
  {
   "cell_type": "markdown",
   "metadata": {},
   "source": [
    "Looking at Massachusetts"
   ]
  },
  {
   "cell_type": "code",
   "execution_count": 34,
   "metadata": {
    "collapsed": true
   },
   "outputs": [],
   "source": [
    "usAttacks.index = usAttacks['Year']"
   ]
  },
  {
   "cell_type": "code",
   "execution_count": 35,
   "metadata": {
    "collapsed": true
   },
   "outputs": [],
   "source": [
    "maAttacks = usAttacks[usAttacks['Area'] == 'Massachusetts']"
   ]
  },
  {
   "cell_type": "code",
   "execution_count": 36,
   "metadata": {
    "collapsed": true
   },
   "outputs": [],
   "source": [
    "maAttacks = maAttacks[(maAttacks.index >= pd.datetime(1960,1,1)) & (maAttacks.index<=pd.datetime(2018,1,1))]"
   ]
  },
  {
   "cell_type": "code",
   "execution_count": 38,
   "metadata": {},
   "outputs": [
    {
     "data": {
      "image/png": "[encoded data removed]",
      "text/plain": [
       "<matplotlib.figure.Figure at 0x7ffb59f1f828>"
      ]
     },
     "metadata": {},
     "output_type": "display_data"
    }
   ],
   "source": [
    "fig = plt.figure(figsize=(10,5))\n",
    "\n",
    "plt.scatter(maAttacks.index, maAttacks['Count'], color='m')\n",
    "plt.title(\"Massachusetts\")\n",
    "\n",
    "plt.savefig(\"Massachusetts.png\")\n",
    "plt.show()"
   ]
  },
  {
   "cell_type": "markdown",
   "metadata": {},
   "source": [
    "The concentration of Massachusetts attacks seems to be in recent years :(, which supports my observation that shark sightings in my are are increasing."
   ]
  },
  {
   "cell_type": "code",
   "execution_count": 41,
   "metadata": {},
   "outputs": [
    {
     "data": {
      "text/html": [
       "<div>\n",
       "<style scoped>\n",
       "    .dataframe tbody tr th:only-of-type {\n",
       "        vertical-align: middle;\n",
       "    }\n",
       "\n",
       "    .dataframe tbody tr th {\n",
       "        vertical-align: top;\n",
       "    }\n",
       "\n",
       "    .dataframe thead th {\n",
       "        text-align: right;\n",
       "    }\n",
       "</style>\n",
       "<table border=\"1\" class=\"dataframe\">\n",
       "  <thead>\n",
       "    <tr style=\"text-align: right;\">\n",
       "      <th></th>\n",
       "      <th>Year</th>\n",
       "      <th>Type</th>\n",
       "      <th>Country</th>\n",
       "      <th>Area</th>\n",
       "      <th>Location</th>\n",
       "      <th>Activity</th>\n",
       "      <th>Name</th>\n",
       "      <th>Sex</th>\n",
       "      <th>Age</th>\n",
       "      <th>Injury</th>\n",
       "      <th>Fatal (Y/N)</th>\n",
       "      <th>Time</th>\n",
       "      <th>Species</th>\n",
       "      <th>Count</th>\n",
       "      <th>Fatal</th>\n",
       "      <th>Non-Fatal</th>\n",
       "    </tr>\n",
       "    <tr>\n",
       "      <th>Year</th>\n",
       "      <th></th>\n",
       "      <th></th>\n",
       "      <th></th>\n",
       "      <th></th>\n",
       "      <th></th>\n",
       "      <th></th>\n",
       "      <th></th>\n",
       "      <th></th>\n",
       "      <th></th>\n",
       "      <th></th>\n",
       "      <th></th>\n",
       "      <th></th>\n",
       "      <th></th>\n",
       "      <th></th>\n",
       "      <th></th>\n",
       "      <th></th>\n",
       "    </tr>\n",
       "  </thead>\n",
       "  <tbody>\n",
       "    <tr>\n",
       "      <th>NaT</th>\n",
       "      <td>NaT</td>\n",
       "      <td>Unprovoked</td>\n",
       "      <td>USA</td>\n",
       "      <td>Florida</td>\n",
       "      <td>Palm Beach, Palm Beach County</td>\n",
       "      <td>Standing</td>\n",
       "      <td>Horton Chase</td>\n",
       "      <td>M</td>\n",
       "      <td>NaN</td>\n",
       "      <td>Abrasions &amp; bruises hip to ankle</td>\n",
       "      <td>N</td>\n",
       "      <td>NaN</td>\n",
       "      <td>NaN</td>\n",
       "      <td>1</td>\n",
       "      <td>0</td>\n",
       "      <td>1</td>\n",
       "    </tr>\n",
       "    <tr>\n",
       "      <th>NaT</th>\n",
       "      <td>NaT</td>\n",
       "      <td>Unprovoked</td>\n",
       "      <td>USA</td>\n",
       "      <td>Florida</td>\n",
       "      <td>Gadsden Point, Tampa Bay</td>\n",
       "      <td>Fishing</td>\n",
       "      <td>James Kelley</td>\n",
       "      <td>M</td>\n",
       "      <td>NaN</td>\n",
       "      <td>2-inch lacerations</td>\n",
       "      <td>N</td>\n",
       "      <td>NaN</td>\n",
       "      <td>NaN</td>\n",
       "      <td>1</td>\n",
       "      <td>0</td>\n",
       "      <td>1</td>\n",
       "    </tr>\n",
       "    <tr>\n",
       "      <th>NaT</th>\n",
       "      <td>NaT</td>\n",
       "      <td>Unprovoked</td>\n",
       "      <td>USA</td>\n",
       "      <td>North Carolina</td>\n",
       "      <td>Somewhere between Hatteras and Beaufort</td>\n",
       "      <td>Swimming</td>\n",
       "      <td>\"youthful male\"</td>\n",
       "      <td>M</td>\n",
       "      <td>NaN</td>\n",
       "      <td>\"Lost leg\"</td>\n",
       "      <td>N</td>\n",
       "      <td>NaN</td>\n",
       "      <td>NaN</td>\n",
       "      <td>1</td>\n",
       "      <td>0</td>\n",
       "      <td>1</td>\n",
       "    </tr>\n",
       "    <tr>\n",
       "      <th>NaT</th>\n",
       "      <td>NaT</td>\n",
       "      <td>Unprovoked</td>\n",
       "      <td>USA</td>\n",
       "      <td>Hawaii</td>\n",
       "      <td>Puna</td>\n",
       "      <td>NaN</td>\n",
       "      <td>A \"chiefess\"</td>\n",
       "      <td>F</td>\n",
       "      <td>NaN</td>\n",
       "      <td>Ankle bitten</td>\n",
       "      <td>N</td>\n",
       "      <td>NaN</td>\n",
       "      <td>NaN</td>\n",
       "      <td>1</td>\n",
       "      <td>0</td>\n",
       "      <td>1</td>\n",
       "    </tr>\n",
       "    <tr>\n",
       "      <th>NaT</th>\n",
       "      <td>NaT</td>\n",
       "      <td>Unprovoked</td>\n",
       "      <td>USA</td>\n",
       "      <td>North Carolina</td>\n",
       "      <td>Ocracoke Inlet</td>\n",
       "      <td>Swimming</td>\n",
       "      <td>Coast Guard personnel</td>\n",
       "      <td>M</td>\n",
       "      <td>NaN</td>\n",
       "      <td>FATAL</td>\n",
       "      <td>Y</td>\n",
       "      <td>NaN</td>\n",
       "      <td>NaN</td>\n",
       "      <td>1</td>\n",
       "      <td>1</td>\n",
       "      <td>0</td>\n",
       "    </tr>\n",
       "  </tbody>\n",
       "</table>\n",
       "</div>"
      ],
      "text/plain": [
       "     Year        Type Country            Area  \\\n",
       "Year                                            \n",
       "NaT   NaT  Unprovoked     USA         Florida   \n",
       "NaT   NaT  Unprovoked     USA         Florida   \n",
       "NaT   NaT  Unprovoked     USA  North Carolina   \n",
       "NaT   NaT  Unprovoked     USA          Hawaii   \n",
       "NaT   NaT  Unprovoked     USA  North Carolina   \n",
       "\n",
       "                                     Location  Activity  \\\n",
       "Year                                                      \n",
       "NaT             Palm Beach, Palm Beach County  Standing   \n",
       "NaT                  Gadsden Point, Tampa Bay   Fishing   \n",
       "NaT   Somewhere between Hatteras and Beaufort  Swimming   \n",
       "NaT                                      Puna       NaN   \n",
       "NaT                            Ocracoke Inlet  Swimming   \n",
       "\n",
       "                       Name Sex   Age                            Injury  \\\n",
       "Year                                                                      \n",
       "NaT            Horton Chase    M  NaN  Abrasions & bruises hip to ankle   \n",
       "NaT            James Kelley    M  NaN                2-inch lacerations   \n",
       "NaT         \"youthful male\"    M  NaN                        \"Lost leg\"   \n",
       "NaT            A \"chiefess\"    F  NaN                      Ankle bitten   \n",
       "NaT   Coast Guard personnel    M  NaN                             FATAL   \n",
       "\n",
       "     Fatal (Y/N) Time Species   Count  Fatal  Non-Fatal  \n",
       "Year                                                     \n",
       "NaT            N  NaN      NaN      1      0          1  \n",
       "NaT            N  NaN      NaN      1      0          1  \n",
       "NaT            N  NaN      NaN      1      0          1  \n",
       "NaT            N  NaN      NaN      1      0          1  \n",
       "NaT            Y  NaN      NaN      1      1          0  "
      ]
     },
     "execution_count": 41,
     "metadata": {},
     "output_type": "execute_result"
    }
   ],
   "source": [
    "## looking at NaT datetime values\n",
    "usAttacks.tail()"
   ]
  },
  {
   "cell_type": "code",
   "execution_count": 43,
   "metadata": {},
   "outputs": [
    {
     "name": "stderr",
     "output_type": "stream",
     "text": [
      "/home/adam/anaconda3/lib/python3.6/site-packages/ipykernel_launcher.py:1: SettingWithCopyWarning: \n",
      "A value is trying to be set on a copy of a slice from a DataFrame\n",
      "\n",
      "See the caveats in the documentation: http://pandas.pydata.org/pandas-docs/stable/indexing.html#indexing-view-versus-copy\n",
      "  \"\"\"Entry point for launching an IPython kernel.\n"
     ]
    }
   ],
   "source": [
    "usAttacks.drop(columns='Year', inplace=True)"
   ]
  },
  {
   "cell_type": "markdown",
   "metadata": {},
   "source": [
    "### Yearly Attacks in the United States"
   ]
  },
  {
   "cell_type": "code",
   "execution_count": 44,
   "metadata": {
    "collapsed": true
   },
   "outputs": [],
   "source": [
    "## creating yearly attacks\n",
    "yearlyusAttacks = usAttacks.groupby(['Year']).sum()"
   ]
  },
  {
   "cell_type": "code",
   "execution_count": 114,
   "metadata": {
    "collapsed": true
   },
   "outputs": [],
   "source": [
    "yearlyusAttacks.rename(columns={'Count': 'Total Attacks'}, inplace=True)"
   ]
  },
  {
   "cell_type": "code",
   "execution_count": 115,
   "metadata": {},
   "outputs": [
    {
     "data": {
      "text/html": [
       "<div>\n",
       "<style scoped>\n",
       "    .dataframe tbody tr th:only-of-type {\n",
       "        vertical-align: middle;\n",
       "    }\n",
       "\n",
       "    .dataframe tbody tr th {\n",
       "        vertical-align: top;\n",
       "    }\n",
       "\n",
       "    .dataframe thead th {\n",
       "        text-align: right;\n",
       "    }\n",
       "</style>\n",
       "<table border=\"1\" class=\"dataframe\">\n",
       "  <thead>\n",
       "    <tr style=\"text-align: right;\">\n",
       "      <th></th>\n",
       "      <th>Total Attacks</th>\n",
       "      <th>Fatal</th>\n",
       "      <th>Non-Fatal</th>\n",
       "    </tr>\n",
       "    <tr>\n",
       "      <th>Year</th>\n",
       "      <th></th>\n",
       "      <th></th>\n",
       "      <th></th>\n",
       "    </tr>\n",
       "  </thead>\n",
       "  <tbody>\n",
       "    <tr>\n",
       "      <th>1751-01-01</th>\n",
       "      <td>1</td>\n",
       "      <td>1</td>\n",
       "      <td>0</td>\n",
       "    </tr>\n",
       "    <tr>\n",
       "      <th>1771-01-01</th>\n",
       "      <td>1</td>\n",
       "      <td>1</td>\n",
       "      <td>0</td>\n",
       "    </tr>\n",
       "    <tr>\n",
       "      <th>1779-01-01</th>\n",
       "      <td>1</td>\n",
       "      <td>1</td>\n",
       "      <td>0</td>\n",
       "    </tr>\n",
       "    <tr>\n",
       "      <th>1780-01-01</th>\n",
       "      <td>1</td>\n",
       "      <td>1</td>\n",
       "      <td>0</td>\n",
       "    </tr>\n",
       "    <tr>\n",
       "      <th>1803-01-01</th>\n",
       "      <td>1</td>\n",
       "      <td>0</td>\n",
       "      <td>1</td>\n",
       "    </tr>\n",
       "  </tbody>\n",
       "</table>\n",
       "</div>"
      ],
      "text/plain": [
       "            Total Attacks  Fatal  Non-Fatal\n",
       "Year                                       \n",
       "1751-01-01              1      1          0\n",
       "1771-01-01              1      1          0\n",
       "1779-01-01              1      1          0\n",
       "1780-01-01              1      1          0\n",
       "1803-01-01              1      0          1"
      ]
     },
     "execution_count": 115,
     "metadata": {},
     "output_type": "execute_result"
    }
   ],
   "source": [
    "yearlyusAttacks.head()"
   ]
  },
  {
   "cell_type": "code",
   "execution_count": 116,
   "metadata": {},
   "outputs": [
    {
     "data": {
      "text/html": [
       "<div>\n",
       "<style scoped>\n",
       "    .dataframe tbody tr th:only-of-type {\n",
       "        vertical-align: middle;\n",
       "    }\n",
       "\n",
       "    .dataframe tbody tr th {\n",
       "        vertical-align: top;\n",
       "    }\n",
       "\n",
       "    .dataframe thead th {\n",
       "        text-align: right;\n",
       "    }\n",
       "</style>\n",
       "<table border=\"1\" class=\"dataframe\">\n",
       "  <thead>\n",
       "    <tr style=\"text-align: right;\">\n",
       "      <th></th>\n",
       "      <th>Total Attacks</th>\n",
       "      <th>Fatal</th>\n",
       "      <th>Non-Fatal</th>\n",
       "    </tr>\n",
       "    <tr>\n",
       "      <th>Year</th>\n",
       "      <th></th>\n",
       "      <th></th>\n",
       "      <th></th>\n",
       "    </tr>\n",
       "  </thead>\n",
       "  <tbody>\n",
       "    <tr>\n",
       "      <th>2014-01-01</th>\n",
       "      <td>66</td>\n",
       "      <td>0</td>\n",
       "      <td>63</td>\n",
       "    </tr>\n",
       "    <tr>\n",
       "      <th>2015-01-01</th>\n",
       "      <td>72</td>\n",
       "      <td>1</td>\n",
       "      <td>64</td>\n",
       "    </tr>\n",
       "    <tr>\n",
       "      <th>2016-01-01</th>\n",
       "      <td>64</td>\n",
       "      <td>0</td>\n",
       "      <td>59</td>\n",
       "    </tr>\n",
       "    <tr>\n",
       "      <th>2017-01-01</th>\n",
       "      <td>65</td>\n",
       "      <td>0</td>\n",
       "      <td>58</td>\n",
       "    </tr>\n",
       "    <tr>\n",
       "      <th>2018-01-01</th>\n",
       "      <td>1</td>\n",
       "      <td>0</td>\n",
       "      <td>1</td>\n",
       "    </tr>\n",
       "  </tbody>\n",
       "</table>\n",
       "</div>"
      ],
      "text/plain": [
       "            Total Attacks  Fatal  Non-Fatal\n",
       "Year                                       \n",
       "2014-01-01             66      0         63\n",
       "2015-01-01             72      1         64\n",
       "2016-01-01             64      0         59\n",
       "2017-01-01             65      0         58\n",
       "2018-01-01              1      0          1"
      ]
     },
     "execution_count": 116,
     "metadata": {},
     "output_type": "execute_result"
    }
   ],
   "source": [
    "yearlyusAttacks.tail()"
   ]
  },
  {
   "cell_type": "code",
   "execution_count": 117,
   "metadata": {},
   "outputs": [
    {
     "data": {
      "text/plain": [
       "(2219, 16)"
      ]
     },
     "execution_count": 117,
     "metadata": {},
     "output_type": "execute_result"
    }
   ],
   "source": [
    "usAttacks.shape"
   ]
  },
  {
   "cell_type": "code",
   "execution_count": 118,
   "metadata": {
    "collapsed": true
   },
   "outputs": [],
   "source": [
    "import matplotlib.ticker as mtick"
   ]
  },
  {
   "cell_type": "code",
   "execution_count": 55,
   "metadata": {},
   "outputs": [
    {
     "data": {
      "image/png": "[encoded data removed]",
      "text/plain": [
       "<matplotlib.figure.Figure at 0x7f1270d63780>"
      ]
     },
     "metadata": {},
     "output_type": "display_data"
    }
   ],
   "source": [
    "## time series plot of US shark attacks\n",
    "yearlyusAttacks.plot(figsize=(15,7))\n",
    "\n",
    "plt.title('US Shark Attacks\\n1763-2017', fontsize=20)\n",
    "\n",
    "fig.set_facecolor('none')\n",
    "\n",
    "\n",
    "plt.xlim(dt.datetime(1763,1,1), dt.datetime(2018,1,1))\n",
    "\n",
    "\n",
    "plt.xticks(fontsize=14)\n",
    "plt.yticks(fontsize=14)\n",
    "\n",
    "plt.xlabel(\"Year\", fontsize=18, labelpad=10)\n",
    "plt.ylabel(\"# Attacks\", rotation=90, fontsize=18, labelpad=20)\n",
    "\n",
    "x_data = np.arange(1763,2018,1)\n",
    "\n",
    "plt.legend(prop={'size':17}, loc='best')\n",
    "\n",
    "\n",
    "plt.savefig('RawUSAttacks.png', bbox_inches='tight', facecolor=fig.get_facecolor(), edgecolor='none')\n",
    "\n",
    "plt.show()"
   ]
  },
  {
   "cell_type": "markdown",
   "metadata": {},
   "source": [
    "## Creating Combined DataFrame"
   ]
  },
  {
   "cell_type": "code",
   "execution_count": 131,
   "metadata": {
    "collapsed": true
   },
   "outputs": [],
   "source": [
    "## Range of Years for Analysis\n",
    "startYear = 1960\n",
    "endYear = 2017\n",
    "\n",
    "## because np.arange goes up to, but does not include end date, using +1\n",
    "sharkAnalysis = pd.DataFrame(index = np.arange(startYear, endYear+1, 1))"
   ]
  },
  {
   "cell_type": "code",
   "execution_count": 132,
   "metadata": {
    "collapsed": true
   },
   "outputs": [],
   "source": [
    "## setting date index for 1960-2017\n",
    "dateIndex = ((yearlyusAttacks.index >= dt.datetime(startYear, 1, 1)) & \n",
    "            (yearlyusAttacks.index <= dt.datetime(endYear, 1, 1)))\n",
    "\n",
    "## creating column, total attacks, with data from shark attack dataframe \n",
    "## using the range of 1960-2017\n",
    "sharkAnalysis['Total Attacks'] = yearlyusAttacks.loc[dateIndex, 'Total Attacks'].values"
   ]
  },
  {
   "cell_type": "code",
   "execution_count": 133,
   "metadata": {},
   "outputs": [
    {
     "data": {
      "text/html": [
       "<div>\n",
       "<style scoped>\n",
       "    .dataframe tbody tr th:only-of-type {\n",
       "        vertical-align: middle;\n",
       "    }\n",
       "\n",
       "    .dataframe tbody tr th {\n",
       "        vertical-align: top;\n",
       "    }\n",
       "\n",
       "    .dataframe thead th {\n",
       "        text-align: right;\n",
       "    }\n",
       "</style>\n",
       "<table border=\"1\" class=\"dataframe\">\n",
       "  <thead>\n",
       "    <tr style=\"text-align: right;\">\n",
       "      <th></th>\n",
       "      <th>Total Attacks</th>\n",
       "    </tr>\n",
       "  </thead>\n",
       "  <tbody>\n",
       "    <tr>\n",
       "      <th>2013</th>\n",
       "      <td>60</td>\n",
       "    </tr>\n",
       "    <tr>\n",
       "      <th>2014</th>\n",
       "      <td>66</td>\n",
       "    </tr>\n",
       "    <tr>\n",
       "      <th>2015</th>\n",
       "      <td>72</td>\n",
       "    </tr>\n",
       "    <tr>\n",
       "      <th>2016</th>\n",
       "      <td>64</td>\n",
       "    </tr>\n",
       "    <tr>\n",
       "      <th>2017</th>\n",
       "      <td>65</td>\n",
       "    </tr>\n",
       "  </tbody>\n",
       "</table>\n",
       "</div>"
      ],
      "text/plain": [
       "      Total Attacks\n",
       "2013             60\n",
       "2014             66\n",
       "2015             72\n",
       "2016             64\n",
       "2017             65"
      ]
     },
     "execution_count": 133,
     "metadata": {},
     "output_type": "execute_result"
    }
   ],
   "source": [
    "sharkAnalysis.tail()"
   ]
  },
  {
   "cell_type": "code",
   "execution_count": 134,
   "metadata": {
    "collapsed": true
   },
   "outputs": [],
   "source": [
    "## creating date index for temperature data\n",
    "tempDateIndex = ((usLandTemps.index >= dt.datetime(startYear, 1, 1)) & \n",
    "                (usLandTemps.index <= dt.datetime(endYear, 1, 1)))\n"
   ]
  },
  {
   "cell_type": "code",
   "execution_count": 135,
   "metadata": {
    "collapsed": true
   },
   "outputs": [],
   "source": [
    "## creating a new \n",
    "sharkAnalysis['Temp Anomaly (F)'] = usLandTemps.loc[tempDateIndex, 'Anomaly (F)'].values"
   ]
  },
  {
   "cell_type": "code",
   "execution_count": 136,
   "metadata": {},
   "outputs": [
    {
     "data": {
      "text/html": [
       "<div>\n",
       "<style scoped>\n",
       "    .dataframe tbody tr th:only-of-type {\n",
       "        vertical-align: middle;\n",
       "    }\n",
       "\n",
       "    .dataframe tbody tr th {\n",
       "        vertical-align: top;\n",
       "    }\n",
       "\n",
       "    .dataframe thead th {\n",
       "        text-align: right;\n",
       "    }\n",
       "</style>\n",
       "<table border=\"1\" class=\"dataframe\">\n",
       "  <thead>\n",
       "    <tr style=\"text-align: right;\">\n",
       "      <th></th>\n",
       "      <th>Total Attacks</th>\n",
       "      <th>Temp Anomaly (F)</th>\n",
       "    </tr>\n",
       "  </thead>\n",
       "  <tbody>\n",
       "    <tr>\n",
       "      <th>1960</th>\n",
       "      <td>25</td>\n",
       "      <td>0.08</td>\n",
       "    </tr>\n",
       "    <tr>\n",
       "      <th>1961</th>\n",
       "      <td>17</td>\n",
       "      <td>-0.56</td>\n",
       "    </tr>\n",
       "    <tr>\n",
       "      <th>1962</th>\n",
       "      <td>21</td>\n",
       "      <td>-0.38</td>\n",
       "    </tr>\n",
       "    <tr>\n",
       "      <th>1963</th>\n",
       "      <td>11</td>\n",
       "      <td>-0.33</td>\n",
       "    </tr>\n",
       "    <tr>\n",
       "      <th>1964</th>\n",
       "      <td>14</td>\n",
       "      <td>0.83</td>\n",
       "    </tr>\n",
       "  </tbody>\n",
       "</table>\n",
       "</div>"
      ],
      "text/plain": [
       "      Total Attacks  Temp Anomaly (F)\n",
       "1960             25              0.08\n",
       "1961             17             -0.56\n",
       "1962             21             -0.38\n",
       "1963             11             -0.33\n",
       "1964             14              0.83"
      ]
     },
     "execution_count": 136,
     "metadata": {},
     "output_type": "execute_result"
    }
   ],
   "source": [
    "sharkAnalysis.head()"
   ]
  },
  {
   "cell_type": "code",
   "execution_count": 137,
   "metadata": {
    "collapsed": true
   },
   "outputs": [],
   "source": [
    "## creating date index for population data\n",
    "populationIndex = ((populationFrame.index >= dt.datetime(startYear, 1, 1)) & \n",
    "                   (populationFrame.index <= dt.datetime(endYear, 1, 1)))"
   ]
  },
  {
   "cell_type": "code",
   "execution_count": 138,
   "metadata": {
    "collapsed": true
   },
   "outputs": [],
   "source": [
    "## reversed array of values\n",
    "# populationFrame.loc[populationIndex, 'total population'].values[::-1]"
   ]
  },
  {
   "cell_type": "code",
   "execution_count": 139,
   "metadata": {
    "collapsed": true
   },
   "outputs": [],
   "source": [
    "## for some reason, I must use the reversed array :P\n",
    "sharkAnalysis['Total Population'] = populationFrame.loc[populationIndex, 'total population'].values[::-1]"
   ]
  },
  {
   "cell_type": "code",
   "execution_count": 140,
   "metadata": {
    "collapsed": true
   },
   "outputs": [],
   "source": [
    "sharkAnalysis['Normalized Data'] = sharkAnalysis['Total Attacks'] / sharkAnalysis['Total Population']"
   ]
  },
  {
   "cell_type": "code",
   "execution_count": 141,
   "metadata": {},
   "outputs": [
    {
     "data": {
      "text/html": [
       "<div>\n",
       "<style scoped>\n",
       "    .dataframe tbody tr th:only-of-type {\n",
       "        vertical-align: middle;\n",
       "    }\n",
       "\n",
       "    .dataframe tbody tr th {\n",
       "        vertical-align: top;\n",
       "    }\n",
       "\n",
       "    .dataframe thead th {\n",
       "        text-align: right;\n",
       "    }\n",
       "</style>\n",
       "<table border=\"1\" class=\"dataframe\">\n",
       "  <thead>\n",
       "    <tr style=\"text-align: right;\">\n",
       "      <th></th>\n",
       "      <th>Total Attacks</th>\n",
       "      <th>Temp Anomaly (F)</th>\n",
       "      <th>Total Population</th>\n",
       "      <th>Normalized Data</th>\n",
       "    </tr>\n",
       "  </thead>\n",
       "  <tbody>\n",
       "    <tr>\n",
       "      <th>1960</th>\n",
       "      <td>25</td>\n",
       "      <td>0.08</td>\n",
       "      <td>180671000.0</td>\n",
       "      <td>1.383731e-07</td>\n",
       "    </tr>\n",
       "    <tr>\n",
       "      <th>1961</th>\n",
       "      <td>17</td>\n",
       "      <td>-0.56</td>\n",
       "      <td>183691000.0</td>\n",
       "      <td>9.254672e-08</td>\n",
       "    </tr>\n",
       "    <tr>\n",
       "      <th>1962</th>\n",
       "      <td>21</td>\n",
       "      <td>-0.38</td>\n",
       "      <td>186538000.0</td>\n",
       "      <td>1.125776e-07</td>\n",
       "    </tr>\n",
       "    <tr>\n",
       "      <th>1963</th>\n",
       "      <td>11</td>\n",
       "      <td>-0.33</td>\n",
       "      <td>189242000.0</td>\n",
       "      <td>5.812663e-08</td>\n",
       "    </tr>\n",
       "    <tr>\n",
       "      <th>1964</th>\n",
       "      <td>14</td>\n",
       "      <td>0.83</td>\n",
       "      <td>191889000.0</td>\n",
       "      <td>7.295885e-08</td>\n",
       "    </tr>\n",
       "  </tbody>\n",
       "</table>\n",
       "</div>"
      ],
      "text/plain": [
       "      Total Attacks  Temp Anomaly (F)  Total Population  Normalized Data\n",
       "1960             25              0.08       180671000.0     1.383731e-07\n",
       "1961             17             -0.56       183691000.0     9.254672e-08\n",
       "1962             21             -0.38       186538000.0     1.125776e-07\n",
       "1963             11             -0.33       189242000.0     5.812663e-08\n",
       "1964             14              0.83       191889000.0     7.295885e-08"
      ]
     },
     "execution_count": 141,
     "metadata": {},
     "output_type": "execute_result"
    }
   ],
   "source": [
    "sharkAnalysis.head()"
   ]
  },
  {
   "cell_type": "code",
   "execution_count": 142,
   "metadata": {
    "collapsed": true
   },
   "outputs": [],
   "source": [
    "## multiplying by 10,000,000 to make values appear in plot\n",
    "sharkAnalysis['Normalized Data'] = sharkAnalysis['Normalized Data'] * 10000000"
   ]
  },
  {
   "cell_type": "code",
   "execution_count": 143,
   "metadata": {},
   "outputs": [
    {
     "data": {
      "text/html": [
       "<div>\n",
       "<style scoped>\n",
       "    .dataframe tbody tr th:only-of-type {\n",
       "        vertical-align: middle;\n",
       "    }\n",
       "\n",
       "    .dataframe tbody tr th {\n",
       "        vertical-align: top;\n",
       "    }\n",
       "\n",
       "    .dataframe thead th {\n",
       "        text-align: right;\n",
       "    }\n",
       "</style>\n",
       "<table border=\"1\" class=\"dataframe\">\n",
       "  <thead>\n",
       "    <tr style=\"text-align: right;\">\n",
       "      <th></th>\n",
       "      <th>Total Attacks</th>\n",
       "      <th>Temp Anomaly (F)</th>\n",
       "      <th>Total Population</th>\n",
       "      <th>Normalized Data</th>\n",
       "    </tr>\n",
       "  </thead>\n",
       "  <tbody>\n",
       "    <tr>\n",
       "      <th>1960</th>\n",
       "      <td>25</td>\n",
       "      <td>0.08</td>\n",
       "      <td>180671000.0</td>\n",
       "      <td>1.383731</td>\n",
       "    </tr>\n",
       "    <tr>\n",
       "      <th>1961</th>\n",
       "      <td>17</td>\n",
       "      <td>-0.56</td>\n",
       "      <td>183691000.0</td>\n",
       "      <td>0.925467</td>\n",
       "    </tr>\n",
       "    <tr>\n",
       "      <th>1962</th>\n",
       "      <td>21</td>\n",
       "      <td>-0.38</td>\n",
       "      <td>186538000.0</td>\n",
       "      <td>1.125776</td>\n",
       "    </tr>\n",
       "    <tr>\n",
       "      <th>1963</th>\n",
       "      <td>11</td>\n",
       "      <td>-0.33</td>\n",
       "      <td>189242000.0</td>\n",
       "      <td>0.581266</td>\n",
       "    </tr>\n",
       "    <tr>\n",
       "      <th>1964</th>\n",
       "      <td>14</td>\n",
       "      <td>0.83</td>\n",
       "      <td>191889000.0</td>\n",
       "      <td>0.729588</td>\n",
       "    </tr>\n",
       "  </tbody>\n",
       "</table>\n",
       "</div>"
      ],
      "text/plain": [
       "      Total Attacks  Temp Anomaly (F)  Total Population  Normalized Data\n",
       "1960             25              0.08       180671000.0         1.383731\n",
       "1961             17             -0.56       183691000.0         0.925467\n",
       "1962             21             -0.38       186538000.0         1.125776\n",
       "1963             11             -0.33       189242000.0         0.581266\n",
       "1964             14              0.83       191889000.0         0.729588"
      ]
     },
     "execution_count": 143,
     "metadata": {},
     "output_type": "execute_result"
    }
   ],
   "source": [
    "sharkAnalysis.head()"
   ]
  },
  {
   "cell_type": "code",
   "execution_count": 144,
   "metadata": {
    "collapsed": true
   },
   "outputs": [],
   "source": [
    "## creating color column with base color set to green\n",
    "sharkAnalysis['Colors'] = 'g'"
   ]
  },
  {
   "cell_type": "code",
   "execution_count": 163,
   "metadata": {
    "collapsed": true
   },
   "outputs": [],
   "source": [
    "for index,row in sharkAnalysis.iterrows():\n",
    "    \n",
    "    #check if greater than 0\n",
    "    if row['Temp Anomaly (F)'] > 0:\n",
    "        #set value in array as red\n",
    "        sharkAnalysis.at[index, 'Colors'] = '#C6221E'\n",
    "    \n",
    "    #check if less than 0, or equal to\n",
    "    if row['Temp Anomaly (F)'] <= 0:\n",
    "        #set value in array as blue\n",
    "        sharkAnalysis.at[index, 'Colors'] = '#2592D1'"
   ]
  },
  {
   "cell_type": "markdown",
   "metadata": {
    "collapsed": true
   },
   "source": [
    "Calculating error on # Shark Attacks (counts)"
   ]
  },
  {
   "cell_type": "code",
   "execution_count": 165,
   "metadata": {
    "collapsed": true
   },
   "outputs": [],
   "source": [
    "sharkAnalysis['Upper Confidence'] = sharkAnalysis['Total Attacks'] + np.sqrt(sharkAnalysis['Total Attacks'])"
   ]
  },
  {
   "cell_type": "code",
   "execution_count": 166,
   "metadata": {
    "collapsed": true
   },
   "outputs": [],
   "source": [
    "sharkAnalysis['Lower Confidence'] = sharkAnalysis['Total Attacks'] - np.sqrt(sharkAnalysis['Total Attacks'])"
   ]
  },
  {
   "cell_type": "code",
   "execution_count": 167,
   "metadata": {},
   "outputs": [
    {
     "data": {
      "text/html": [
       "<div>\n",
       "<style scoped>\n",
       "    .dataframe tbody tr th:only-of-type {\n",
       "        vertical-align: middle;\n",
       "    }\n",
       "\n",
       "    .dataframe tbody tr th {\n",
       "        vertical-align: top;\n",
       "    }\n",
       "\n",
       "    .dataframe thead th {\n",
       "        text-align: right;\n",
       "    }\n",
       "</style>\n",
       "<table border=\"1\" class=\"dataframe\">\n",
       "  <thead>\n",
       "    <tr style=\"text-align: right;\">\n",
       "      <th></th>\n",
       "      <th>Total Attacks</th>\n",
       "      <th>Temp Anomaly (F)</th>\n",
       "      <th>Total Population</th>\n",
       "      <th>Normalized Data</th>\n",
       "      <th>Colors</th>\n",
       "      <th>Upper Confidence</th>\n",
       "      <th>Lower Confidence</th>\n",
       "      <th>N Upper Confidence</th>\n",
       "      <th>N Lower Confidence</th>\n",
       "    </tr>\n",
       "  </thead>\n",
       "  <tbody>\n",
       "    <tr>\n",
       "      <th>1960</th>\n",
       "      <td>25</td>\n",
       "      <td>0.08</td>\n",
       "      <td>180671000.0</td>\n",
       "      <td>1.383731</td>\n",
       "      <td>#C6221E</td>\n",
       "      <td>30.000000</td>\n",
       "      <td>20.000000</td>\n",
       "      <td>1.660477</td>\n",
       "      <td>1.106985</td>\n",
       "    </tr>\n",
       "    <tr>\n",
       "      <th>1961</th>\n",
       "      <td>17</td>\n",
       "      <td>-0.56</td>\n",
       "      <td>183691000.0</td>\n",
       "      <td>0.925467</td>\n",
       "      <td>#2592D1</td>\n",
       "      <td>21.123106</td>\n",
       "      <td>12.876894</td>\n",
       "      <td>1.149926</td>\n",
       "      <td>0.701008</td>\n",
       "    </tr>\n",
       "    <tr>\n",
       "      <th>1962</th>\n",
       "      <td>21</td>\n",
       "      <td>-0.38</td>\n",
       "      <td>186538000.0</td>\n",
       "      <td>1.125776</td>\n",
       "      <td>#2592D1</td>\n",
       "      <td>25.582576</td>\n",
       "      <td>16.417424</td>\n",
       "      <td>1.371440</td>\n",
       "      <td>0.880112</td>\n",
       "    </tr>\n",
       "    <tr>\n",
       "      <th>1963</th>\n",
       "      <td>11</td>\n",
       "      <td>-0.33</td>\n",
       "      <td>189242000.0</td>\n",
       "      <td>0.581266</td>\n",
       "      <td>#2592D1</td>\n",
       "      <td>14.316625</td>\n",
       "      <td>7.683375</td>\n",
       "      <td>0.756525</td>\n",
       "      <td>0.406008</td>\n",
       "    </tr>\n",
       "    <tr>\n",
       "      <th>1964</th>\n",
       "      <td>14</td>\n",
       "      <td>0.83</td>\n",
       "      <td>191889000.0</td>\n",
       "      <td>0.729588</td>\n",
       "      <td>#C6221E</td>\n",
       "      <td>17.741657</td>\n",
       "      <td>10.258343</td>\n",
       "      <td>0.924579</td>\n",
       "      <td>0.534598</td>\n",
       "    </tr>\n",
       "  </tbody>\n",
       "</table>\n",
       "</div>"
      ],
      "text/plain": [
       "      Total Attacks  Temp Anomaly (F)  Total Population  Normalized Data  \\\n",
       "1960             25              0.08       180671000.0         1.383731   \n",
       "1961             17             -0.56       183691000.0         0.925467   \n",
       "1962             21             -0.38       186538000.0         1.125776   \n",
       "1963             11             -0.33       189242000.0         0.581266   \n",
       "1964             14              0.83       191889000.0         0.729588   \n",
       "\n",
       "       Colors  Upper Confidence  Lower Confidence  N Upper Confidence  \\\n",
       "1960  #C6221E         30.000000         20.000000            1.660477   \n",
       "1961  #2592D1         21.123106         12.876894            1.149926   \n",
       "1962  #2592D1         25.582576         16.417424            1.371440   \n",
       "1963  #2592D1         14.316625          7.683375            0.756525   \n",
       "1964  #C6221E         17.741657         10.258343            0.924579   \n",
       "\n",
       "      N Lower Confidence  \n",
       "1960            1.106985  \n",
       "1961            0.701008  \n",
       "1962            0.880112  \n",
       "1963            0.406008  \n",
       "1964            0.534598  "
      ]
     },
     "execution_count": 167,
     "metadata": {},
     "output_type": "execute_result"
    }
   ],
   "source": [
    "sharkAnalysis.head()"
   ]
  },
  {
   "cell_type": "code",
   "execution_count": 168,
   "metadata": {
    "collapsed": true
   },
   "outputs": [],
   "source": [
    "## Normalized Upper Confidence\n",
    "sharkAnalysis['N Upper Confidence'] = (sharkAnalysis['Upper Confidence']/sharkAnalysis['Total Population']) * 10000000"
   ]
  },
  {
   "cell_type": "code",
   "execution_count": 169,
   "metadata": {
    "collapsed": true
   },
   "outputs": [],
   "source": [
    "## Normalized Lower Confidence\n",
    "sharkAnalysis['N Lower Confidence'] = (sharkAnalysis['Lower Confidence']/sharkAnalysis['Total Population']) * 10000000"
   ]
  },
  {
   "cell_type": "code",
   "execution_count": 170,
   "metadata": {},
   "outputs": [
    {
     "data": {
      "text/html": [
       "<div>\n",
       "<style scoped>\n",
       "    .dataframe tbody tr th:only-of-type {\n",
       "        vertical-align: middle;\n",
       "    }\n",
       "\n",
       "    .dataframe tbody tr th {\n",
       "        vertical-align: top;\n",
       "    }\n",
       "\n",
       "    .dataframe thead th {\n",
       "        text-align: right;\n",
       "    }\n",
       "</style>\n",
       "<table border=\"1\" class=\"dataframe\">\n",
       "  <thead>\n",
       "    <tr style=\"text-align: right;\">\n",
       "      <th></th>\n",
       "      <th>Total Attacks</th>\n",
       "      <th>Temp Anomaly (F)</th>\n",
       "      <th>Total Population</th>\n",
       "      <th>Normalized Data</th>\n",
       "      <th>Colors</th>\n",
       "      <th>Upper Confidence</th>\n",
       "      <th>Lower Confidence</th>\n",
       "      <th>N Upper Confidence</th>\n",
       "      <th>N Lower Confidence</th>\n",
       "    </tr>\n",
       "  </thead>\n",
       "  <tbody>\n",
       "    <tr>\n",
       "      <th>1960</th>\n",
       "      <td>25</td>\n",
       "      <td>0.08</td>\n",
       "      <td>180671000.0</td>\n",
       "      <td>1.383731</td>\n",
       "      <td>#C6221E</td>\n",
       "      <td>30.000000</td>\n",
       "      <td>20.000000</td>\n",
       "      <td>1.660477</td>\n",
       "      <td>1.106985</td>\n",
       "    </tr>\n",
       "    <tr>\n",
       "      <th>1961</th>\n",
       "      <td>17</td>\n",
       "      <td>-0.56</td>\n",
       "      <td>183691000.0</td>\n",
       "      <td>0.925467</td>\n",
       "      <td>#2592D1</td>\n",
       "      <td>21.123106</td>\n",
       "      <td>12.876894</td>\n",
       "      <td>1.149926</td>\n",
       "      <td>0.701008</td>\n",
       "    </tr>\n",
       "    <tr>\n",
       "      <th>1962</th>\n",
       "      <td>21</td>\n",
       "      <td>-0.38</td>\n",
       "      <td>186538000.0</td>\n",
       "      <td>1.125776</td>\n",
       "      <td>#2592D1</td>\n",
       "      <td>25.582576</td>\n",
       "      <td>16.417424</td>\n",
       "      <td>1.371440</td>\n",
       "      <td>0.880112</td>\n",
       "    </tr>\n",
       "  </tbody>\n",
       "</table>\n",
       "</div>"
      ],
      "text/plain": [
       "      Total Attacks  Temp Anomaly (F)  Total Population  Normalized Data  \\\n",
       "1960             25              0.08       180671000.0         1.383731   \n",
       "1961             17             -0.56       183691000.0         0.925467   \n",
       "1962             21             -0.38       186538000.0         1.125776   \n",
       "\n",
       "       Colors  Upper Confidence  Lower Confidence  N Upper Confidence  \\\n",
       "1960  #C6221E         30.000000         20.000000            1.660477   \n",
       "1961  #2592D1         21.123106         12.876894            1.149926   \n",
       "1962  #2592D1         25.582576         16.417424            1.371440   \n",
       "\n",
       "      N Lower Confidence  \n",
       "1960            1.106985  \n",
       "1961            0.701008  \n",
       "1962            0.880112  "
      ]
     },
     "execution_count": 170,
     "metadata": {},
     "output_type": "execute_result"
    }
   ],
   "source": [
    "sharkAnalysis.head(3)"
   ]
  },
  {
   "cell_type": "code",
   "execution_count": 171,
   "metadata": {
    "collapsed": true
   },
   "outputs": [],
   "source": [
    "## writing CSV file\n",
    "sharkAnalysis.to_csv('SharkAnalysis.csv')"
   ]
  },
  {
   "cell_type": "code",
   "execution_count": 172,
   "metadata": {},
   "outputs": [
    {
     "data": {
      "image/png": "[encoded data removed]",
      "text/plain": [
       "<matplotlib.figure.Figure at 0x7f94959cc7f0>"
      ]
     },
     "metadata": {},
     "output_type": "display_data"
    }
   ],
   "source": [
    "##-------------------------\n",
    "plt.plot(sharkAnalysis.index, sharkAnalysis['Total Attacks'])\n",
    "\n",
    "##-------------------------\n",
    "## plotting error envelope\n",
    "\n",
    "plt.plot(sharkAnalysis.index, sharkAnalysis['Upper Confidence'],\n",
    "        alpha=0.3, color='#39AEC2')\n",
    "\n",
    "plt.plot(sharkAnalysis.index, sharkAnalysis['Lower Confidence'],\n",
    "        alpha=0.3, color='#39AEC2')\n",
    "\n",
    "plt.fill_between(sharkAnalysis.index, sharkAnalysis['Lower Confidence'],\n",
    "                 sharkAnalysis['Upper Confidence'], alpha=0.2, color='#39AEC2')\n",
    "\n",
    "\n",
    "##-------------------------\n",
    "plt.suptitle('Shark Attacks with Error Envelope')\n",
    "\n",
    "plt.show()"
   ]
  },
  {
   "cell_type": "markdown",
   "metadata": {},
   "source": [
    "### Exploratory Visualizations"
   ]
  },
  {
   "cell_type": "code",
   "execution_count": 173,
   "metadata": {},
   "outputs": [
    {
     "data": {
      "image/png": "[encoded data removed]",
      "text/plain": [
       "<matplotlib.figure.Figure at 0x7f94959cc080>"
      ]
     },
     "metadata": {},
     "output_type": "display_data"
    }
   ],
   "source": [
    "fig = plt.figure(figsize=(10,5))\n",
    "\n",
    "sharkAnalysis['Normalized Data'].plot(color='m')\n",
    "\n",
    "plt.suptitle(\"Shark Attacks in the United States\\n1960-2017\", fontsize=18)\n",
    "\n",
    "plt.xticks(fontsize=12)\n",
    "plt.yticks(fontsize=12)\n",
    "\n",
    "plt.axhline(y=sharkAnalysis['Normalized Data'].mean(), color='b', label='Average')\n",
    "\n",
    "plt.legend(bbox_to_anchor=(1,1))\n",
    "\n",
    "## informative x,y labels\n",
    "plt.ylabel(\"# Shark Attacks\\nDivided by\\n Total Population\", rotation=0, fontsize=16, labelpad=100)\n",
    "plt.xlabel(\"Year\", fontsize=16, labelpad=20)\n",
    "plt.show()"
   ]
  },
  {
   "cell_type": "code",
   "execution_count": 175,
   "metadata": {},
   "outputs": [
    {
     "data": {
      "image/png": "[encoded data removed]",
      "text/plain": [
       "<matplotlib.figure.Figure at 0x7f94955515f8>"
      ]
     },
     "metadata": {},
     "output_type": "display_data"
    }
   ],
   "source": [
    "## Temperature Anomalies\n",
    "fig = plt.figure(figsize=(10, 5))\n",
    "fig.suptitle('Temperature Variants From 20th Century US Average', fontsize=20)\n",
    "\n",
    "\n",
    "plt.bar(sharkAnalysis.index, sharkAnalysis['Temp Anomaly (F)'], width = 0.8, align='edge',\n",
    "        color=sharkAnalysis['Colors'])\n",
    "\n",
    "#------------------------------------------------\n",
    "\n",
    "plt.ylabel('Anomaly $\\degree$F', fontsize = 20)\n",
    "plt.xlabel('Year', fontsize = 20)\n",
    "\n",
    "plt.xticks(fontsize=16)\n",
    "plt.yticks(fontsize=16)\n",
    "\n",
    "## 20th century mean\n",
    "plt.axhline(y=0.0, color='k', linestyle='--', label='20th century mean (0)')\n",
    "\n",
    "\n",
    "plt.grid(color='gray', linestyle='dashed')"
   ]
  },
  {
   "cell_type": "markdown",
   "metadata": {},
   "source": [
    "### Multiplot"
   ]
  },
  {
   "cell_type": "code",
   "execution_count": 176,
   "metadata": {
    "collapsed": true
   },
   "outputs": [],
   "source": [
    "### Multiplot of Shark attacks and temperature Anomalies"
   ]
  },
  {
   "cell_type": "code",
   "execution_count": 177,
   "metadata": {},
   "outputs": [
    {
     "data": {
      "image/png": "[encoded data removed]",
      "text/plain": [
       "<matplotlib.figure.Figure at 0x7f9494d8b358>"
      ]
     },
     "metadata": {},
     "output_type": "display_data"
    }
   ],
   "source": [
    "fig = plt.figure(figsize=(15, 10))\n",
    "#added newline character to make multilevel title\n",
    "fig.suptitle('Change in Shark Attacks \\n with Temp. '+ \n",
    "             'Changes in United States', fontsize=20)\n",
    "\n",
    "#-----------------------------------------CHANGE REDUCED hspace to 0\n",
    "gs = plt.GridSpec(2, 1, hspace=0.0, wspace=0.0, right = 0.8)\n",
    "#-----------------------------------------\n",
    "ax1 = fig.add_subplot(gs[0,:])\n",
    "ax2 = fig.add_subplot(gs[1,:])\n",
    "#------------------------------------------------\n",
    "\n",
    "ax1.plot(sharkAnalysis.index, sharkAnalysis['Normalized Data'],\n",
    "         lw=2, marker='d', color=\"#7173F6\")\n",
    "\n",
    "ax1.axhline(y=0.0, color='k', linestyle='-') #add a horizontal line at 0\n",
    "\n",
    "ax1.set_ylabel('Shark\\nAttacks\\n(Normalized)', rotation=0, labelpad=60, fontsize = 16)\n",
    "ax1.tick_params(labelsize=16)\n",
    "#------------------------------------------------\n",
    "\n",
    "## plotting error envelope for shark attacks\n",
    "## Error for counts = x(best) +/- sqrt(x best)\n",
    "\n",
    "ax1.plot(sharkAnalysis.index, sharkAnalysis['N Upper Confidence'],\n",
    "        alpha=0.3, color='#7173F6')\n",
    "\n",
    "ax1.plot(sharkAnalysis.index, sharkAnalysis['N Lower Confidence'],\n",
    "        alpha=0.3, color='#7173F6')\n",
    "\n",
    "ax1.fill_between(sharkAnalysis.index, sharkAnalysis['N Lower Confidence'],\n",
    "                 sharkAnalysis['N Upper Confidence'], alpha=0.2, color='#7173F6')\n",
    "\n",
    "\n",
    "#------------------------------------------------\n",
    "#------------------------------------------------\n",
    "\n",
    "ax2.bar(sharkAnalysis.index, sharkAnalysis['Temp Anomaly (F)'], width = 0.8, align='edge',\n",
    "        color=sharkAnalysis['Colors'])\n",
    "\n",
    "#------------------------------------------------\n",
    "\n",
    "ax2.set_ylabel('Anomaly\\n$\\degree$F', rotation=0, labelpad=60, fontsize = 18)\n",
    "ax2.set_xlabel('Year', fontsize = 20, labelpad=20)\n",
    "\n",
    "ax2.tick_params(labelsize=16)\n",
    "\n",
    "\n",
    "## 20th century mean\n",
    "ax2.axhline(y=0.0, color='g', linestyle='-', label='20th century mean (0)')\n",
    "\n",
    "#------------------------------------------------\n",
    "#------------------------------------------------\n",
    "fig.set_facecolor('none')\n",
    "\n",
    "plt.savefig('Attacks-Temps.png', bbox_inches='tight', facecolor=fig.get_facecolor(), edgecolor='none')\n",
    "plt.show()"
   ]
  },
  {
   "cell_type": "markdown",
   "metadata": {},
   "source": [
    "## For the final statistical analysis performed, see the \"Statistical Analysis\" jupyter notebook."
   ]
  },
  {
   "cell_type": "markdown",
   "metadata": {},
   "source": [
    "### Seaborn Linear Regression + Pearson Correlation Coefficient"
   ]
  },
  {
   "cell_type": "code",
   "execution_count": 66,
   "metadata": {},
   "outputs": [
    {
     "data": {
      "image/png": "[encoded data removed]",
      "text/plain": [
       "<matplotlib.figure.Figure at 0x7f346ef52d30>"
      ]
     },
     "metadata": {},
     "output_type": "display_data"
    }
   ],
   "source": [
    "sns.lmplot(x='Temp Anomaly (F)', y='Total Attacks', data=sharkAnalysis,\n",
    "           robust=True)\n",
    "\n",
    "plt.show()"
   ]
  },
  {
   "cell_type": "code",
   "execution_count": 73,
   "metadata": {},
   "outputs": [
    {
     "data": {
      "text/plain": [
       "0.74111637788640639"
      ]
     },
     "execution_count": 73,
     "metadata": {},
     "output_type": "execute_result"
    }
   ],
   "source": [
    "## Pearson Correlation Coefficient\n",
    "sharkAnalysis['Temp Anomaly (F)'].corr(sharkAnalysis['Total Attacks'], method='pearson')"
   ]
  },
  {
   "cell_type": "code",
   "execution_count": 91,
   "metadata": {},
   "outputs": [
    {
     "data": {
      "text/plain": [
       "count    58.000000\n",
       "mean     30.086207\n",
       "std      19.625694\n",
       "min       4.000000\n",
       "25%      15.000000\n",
       "50%      23.000000\n",
       "75%      48.750000\n",
       "max      72.000000\n",
       "Name: Total Attacks, dtype: float64"
      ]
     },
     "execution_count": 91,
     "metadata": {},
     "output_type": "execute_result"
    }
   ],
   "source": [
    "sharkAnalysis['Total Attacks'].describe()"
   ]
  }
 ],
 "metadata": {
  "kernelspec": {
   "display_name": "Python 3",
   "language": "python",
   "name": "python3"
  },
  "language_info": {
   "codemirror_mode": {
    "name": "ipython",
    "version": 3
   },
   "file_extension": ".py",
   "mimetype": "text/x-python",
   "name": "python",
   "nbconvert_exporter": "python",
   "pygments_lexer": "ipython3",
   "version": "3.6.3"
  }
 },
 "nbformat": 4,
 "nbformat_minor": 2
}
